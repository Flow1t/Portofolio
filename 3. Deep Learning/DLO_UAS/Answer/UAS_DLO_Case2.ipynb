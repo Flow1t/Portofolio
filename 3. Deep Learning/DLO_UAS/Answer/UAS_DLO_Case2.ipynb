{
  "nbformat": 4,
  "nbformat_minor": 0,
  "metadata": {
    "colab": {
      "provenance": []
    },
    "kernelspec": {
      "name": "python3",
      "display_name": "Python 3"
    },
    "language_info": {
      "name": "python"
    }
  },
  "cells": [
    {
      "cell_type": "markdown",
      "source": [
        "*   Name: Devin Augustin\n",
        "*   NIM: 2440094352"
      ],
      "metadata": {
        "id": "K1r7fnoajTDK"
      }
    },
    {
      "cell_type": "code",
      "source": [
        "import matplotlib.pyplot as plt\n",
        "import numpy as np\n",
        "import pandas as pd\n",
        "import seaborn as sns\n",
        "\n",
        "import tqdm as tqdm\n",
        "\n",
        "import tensorflow as tf\n",
        "from tensorflow.keras.layers import Input,Dense,SimpleRNN,Embedding,Conv1D,Bidirectional,SpatialDropout1D,Dropout\n",
        "from tensorflow.keras import Sequential\n",
        "from tensorflow.keras.callbacks import Callback,ModelCheckpoint,CSVLogger,ReduceLROnPlateau,LearningRateScheduler,EarlyStopping\n",
        "from tensorflow.keras.optimizers import Adam\n",
        "\n",
        "from sklearn.metrics import confusion_matrix,classification_report\n",
        "\n",
        "import re\n",
        "from sklearn.model_selection import train_test_split\n",
        "from nltk.corpus import stopwords\n",
        "from nltk.tokenize import word_tokenize\n",
        "from nltk.stem import WordNetLemmatizer\n",
        "\n",
        "import nltk\n",
        "nltk.download('punkt')\n",
        "nltk.download('wordnet')\n",
        "nltk.download('omw-1.4')\n",
        "nltk.download('stopwords')\n",
        "\n",
        "stop=set(stopwords.words('english'))"
      ],
      "metadata": {
        "id": "4Yz9Awt97Ncq",
        "colab": {
          "base_uri": "https://localhost:8080/"
        },
        "outputId": "f974d8bf-0675-4077-f58f-9cf313cb83eb"
      },
      "execution_count": 61,
      "outputs": [
        {
          "output_type": "stream",
          "name": "stderr",
          "text": [
            "[nltk_data] Downloading package punkt to /root/nltk_data...\n",
            "[nltk_data]   Package punkt is already up-to-date!\n",
            "[nltk_data] Downloading package wordnet to /root/nltk_data...\n",
            "[nltk_data]   Package wordnet is already up-to-date!\n",
            "[nltk_data] Downloading package omw-1.4 to /root/nltk_data...\n",
            "[nltk_data]   Package omw-1.4 is already up-to-date!\n",
            "[nltk_data] Downloading package stopwords to /root/nltk_data...\n",
            "[nltk_data]   Package stopwords is already up-to-date!\n"
          ]
        }
      ]
    },
    {
      "cell_type": "markdown",
      "source": [
        "#**1. Load the data**\n",
        "\n"
      ],
      "metadata": {
        "id": "1l0rnZpz69Bs"
      }
    },
    {
      "cell_type": "code",
      "source": [
        "from google.colab import drive\n",
        "drive.mount('/content/drive')"
      ],
      "metadata": {
        "colab": {
          "base_uri": "https://localhost:8080/"
        },
        "id": "cP4OiPMHjZR7",
        "outputId": "092c5efe-65f0-4ba0-b2b5-66b2ab74a62e"
      },
      "execution_count": 62,
      "outputs": [
        {
          "output_type": "stream",
          "name": "stdout",
          "text": [
            "Drive already mounted at /content/drive; to attempt to forcibly remount, call drive.mount(\"/content/drive\", force_remount=True).\n"
          ]
        }
      ]
    },
    {
      "cell_type": "code",
      "source": [
        "df = pd.read_csv(\"/content/drive/MyDrive/Colab/UAS_DLO/mediumreview.csv\")\n",
        "df"
      ],
      "metadata": {
        "colab": {
          "base_uri": "https://localhost:8080/",
          "height": 641
        },
        "id": "3WwJG4Sa68Df",
        "outputId": "5f796009-75e7-4c27-c0fa-bb19e82fe192"
      },
      "execution_count": 63,
      "outputs": [
        {
          "output_type": "execute_result",
          "data": {
            "text/plain": [
              "                                   reviewId  \\\n",
              "0      326d4bdd-8fc6-4d64-b3bf-ce393fb2ae9b   \n",
              "1      4bbf741b-2f69-43cd-bb76-f9b5f84c83b5   \n",
              "2      3cb1136d-e7c6-4999-aa84-fdc7bcdccf56   \n",
              "3      d6f80f05-a6e8-44f3-a380-7c59ed3d208b   \n",
              "4      eecb277c-c658-4b2d-86c9-77d3a7022cac   \n",
              "...                                     ...   \n",
              "45409  d9964102-00a0-49ef-9286-b1c47581b7c5   \n",
              "45410  014ea3e3-4d68-4917-a1f5-95a65c3839b7   \n",
              "45411  08fe9675-f425-490c-9bfe-c2e214015c0d   \n",
              "45412  ce773043-cd63-4cf1-af47-2ffc8b564619   \n",
              "45413  42bb2d92-7200-4baf-8efa-df358a7a9264   \n",
              "\n",
              "                                                 content  score  \\\n",
              "0                                                   woww      5   \n",
              "1                    let me know more details about this      3   \n",
              "2      i've been using this for a while and there's a...      2   \n",
              "3                                                   good      2   \n",
              "4                                                 mjkobe      5   \n",
              "...                                                  ...    ...   \n",
              "45409                                    very useful app      4   \n",
              "45410                        try it. see why it rates 1.      1   \n",
              "45411         nice and easy very fast updates about news      5   \n",
              "45412                             this site is awesome .      4   \n",
              "45413                          cool newsletter timeline.      5   \n",
              "\n",
              "       thumbsUpCount reviewCreatedVersion                   at replyContent  \\\n",
              "0                  0                  NaN  2022-08-16 05:55:38          NaN   \n",
              "1                  0          4.5.1143533  2022-08-16 04:44:45          NaN   \n",
              "2                  0          4.5.1143533  2022-08-16 04:05:27          NaN   \n",
              "3                  0          4.5.1143533  2022-08-16 00:22:33          NaN   \n",
              "4                  0          4.5.1143533  2022-08-15 20:08:25          NaN   \n",
              "...              ...                  ...                  ...          ...   \n",
              "45409              0          4.5.1155382  2022-12-20 15:53:24          NaN   \n",
              "45410              0                  NaN  2022-12-20 14:48:49          NaN   \n",
              "45411              0          4.5.1156292  2022-12-20 14:29:05          NaN   \n",
              "45412              0          4.5.1156292  2022-12-20 14:26:21          NaN   \n",
              "45413              0          4.5.1156292  2022-12-20 14:17:55          NaN   \n",
              "\n",
              "      repliedAt predicted_category sentiment  \n",
              "0           NaN    USER_EXPERIENCE   NEUTRAL  \n",
              "1           NaN            CONTENT   NEUTRAL  \n",
              "2           NaN          INTERFACE  NEGATIVE  \n",
              "3           NaN    USER_EXPERIENCE  POSITIVE  \n",
              "4           NaN    USER_EXPERIENCE   NEUTRAL  \n",
              "...         ...                ...       ...  \n",
              "45409       NaN    USER_EXPERIENCE  POSITIVE  \n",
              "45410       NaN          INTERFACE   NEUTRAL  \n",
              "45411       NaN          INTERFACE  POSITIVE  \n",
              "45412       NaN    USER_EXPERIENCE  POSITIVE  \n",
              "45413       NaN            CONTENT  POSITIVE  \n",
              "\n",
              "[45414 rows x 10 columns]"
            ],
            "text/html": [
              "\n",
              "  <div id=\"df-c4b1af24-0afd-472d-8ad3-fe784f75fde6\">\n",
              "    <div class=\"colab-df-container\">\n",
              "      <div>\n",
              "<style scoped>\n",
              "    .dataframe tbody tr th:only-of-type {\n",
              "        vertical-align: middle;\n",
              "    }\n",
              "\n",
              "    .dataframe tbody tr th {\n",
              "        vertical-align: top;\n",
              "    }\n",
              "\n",
              "    .dataframe thead th {\n",
              "        text-align: right;\n",
              "    }\n",
              "</style>\n",
              "<table border=\"1\" class=\"dataframe\">\n",
              "  <thead>\n",
              "    <tr style=\"text-align: right;\">\n",
              "      <th></th>\n",
              "      <th>reviewId</th>\n",
              "      <th>content</th>\n",
              "      <th>score</th>\n",
              "      <th>thumbsUpCount</th>\n",
              "      <th>reviewCreatedVersion</th>\n",
              "      <th>at</th>\n",
              "      <th>replyContent</th>\n",
              "      <th>repliedAt</th>\n",
              "      <th>predicted_category</th>\n",
              "      <th>sentiment</th>\n",
              "    </tr>\n",
              "  </thead>\n",
              "  <tbody>\n",
              "    <tr>\n",
              "      <th>0</th>\n",
              "      <td>326d4bdd-8fc6-4d64-b3bf-ce393fb2ae9b</td>\n",
              "      <td>woww</td>\n",
              "      <td>5</td>\n",
              "      <td>0</td>\n",
              "      <td>NaN</td>\n",
              "      <td>2022-08-16 05:55:38</td>\n",
              "      <td>NaN</td>\n",
              "      <td>NaN</td>\n",
              "      <td>USER_EXPERIENCE</td>\n",
              "      <td>NEUTRAL</td>\n",
              "    </tr>\n",
              "    <tr>\n",
              "      <th>1</th>\n",
              "      <td>4bbf741b-2f69-43cd-bb76-f9b5f84c83b5</td>\n",
              "      <td>let me know more details about this</td>\n",
              "      <td>3</td>\n",
              "      <td>0</td>\n",
              "      <td>4.5.1143533</td>\n",
              "      <td>2022-08-16 04:44:45</td>\n",
              "      <td>NaN</td>\n",
              "      <td>NaN</td>\n",
              "      <td>CONTENT</td>\n",
              "      <td>NEUTRAL</td>\n",
              "    </tr>\n",
              "    <tr>\n",
              "      <th>2</th>\n",
              "      <td>3cb1136d-e7c6-4999-aa84-fdc7bcdccf56</td>\n",
              "      <td>i've been using this for a while and there's a...</td>\n",
              "      <td>2</td>\n",
              "      <td>0</td>\n",
              "      <td>4.5.1143533</td>\n",
              "      <td>2022-08-16 04:05:27</td>\n",
              "      <td>NaN</td>\n",
              "      <td>NaN</td>\n",
              "      <td>INTERFACE</td>\n",
              "      <td>NEGATIVE</td>\n",
              "    </tr>\n",
              "    <tr>\n",
              "      <th>3</th>\n",
              "      <td>d6f80f05-a6e8-44f3-a380-7c59ed3d208b</td>\n",
              "      <td>good</td>\n",
              "      <td>2</td>\n",
              "      <td>0</td>\n",
              "      <td>4.5.1143533</td>\n",
              "      <td>2022-08-16 00:22:33</td>\n",
              "      <td>NaN</td>\n",
              "      <td>NaN</td>\n",
              "      <td>USER_EXPERIENCE</td>\n",
              "      <td>POSITIVE</td>\n",
              "    </tr>\n",
              "    <tr>\n",
              "      <th>4</th>\n",
              "      <td>eecb277c-c658-4b2d-86c9-77d3a7022cac</td>\n",
              "      <td>mjkobe</td>\n",
              "      <td>5</td>\n",
              "      <td>0</td>\n",
              "      <td>4.5.1143533</td>\n",
              "      <td>2022-08-15 20:08:25</td>\n",
              "      <td>NaN</td>\n",
              "      <td>NaN</td>\n",
              "      <td>USER_EXPERIENCE</td>\n",
              "      <td>NEUTRAL</td>\n",
              "    </tr>\n",
              "    <tr>\n",
              "      <th>...</th>\n",
              "      <td>...</td>\n",
              "      <td>...</td>\n",
              "      <td>...</td>\n",
              "      <td>...</td>\n",
              "      <td>...</td>\n",
              "      <td>...</td>\n",
              "      <td>...</td>\n",
              "      <td>...</td>\n",
              "      <td>...</td>\n",
              "      <td>...</td>\n",
              "    </tr>\n",
              "    <tr>\n",
              "      <th>45409</th>\n",
              "      <td>d9964102-00a0-49ef-9286-b1c47581b7c5</td>\n",
              "      <td>very useful app</td>\n",
              "      <td>4</td>\n",
              "      <td>0</td>\n",
              "      <td>4.5.1155382</td>\n",
              "      <td>2022-12-20 15:53:24</td>\n",
              "      <td>NaN</td>\n",
              "      <td>NaN</td>\n",
              "      <td>USER_EXPERIENCE</td>\n",
              "      <td>POSITIVE</td>\n",
              "    </tr>\n",
              "    <tr>\n",
              "      <th>45410</th>\n",
              "      <td>014ea3e3-4d68-4917-a1f5-95a65c3839b7</td>\n",
              "      <td>try it. see why it rates 1.</td>\n",
              "      <td>1</td>\n",
              "      <td>0</td>\n",
              "      <td>NaN</td>\n",
              "      <td>2022-12-20 14:48:49</td>\n",
              "      <td>NaN</td>\n",
              "      <td>NaN</td>\n",
              "      <td>INTERFACE</td>\n",
              "      <td>NEUTRAL</td>\n",
              "    </tr>\n",
              "    <tr>\n",
              "      <th>45411</th>\n",
              "      <td>08fe9675-f425-490c-9bfe-c2e214015c0d</td>\n",
              "      <td>nice and easy very fast updates about news</td>\n",
              "      <td>5</td>\n",
              "      <td>0</td>\n",
              "      <td>4.5.1156292</td>\n",
              "      <td>2022-12-20 14:29:05</td>\n",
              "      <td>NaN</td>\n",
              "      <td>NaN</td>\n",
              "      <td>INTERFACE</td>\n",
              "      <td>POSITIVE</td>\n",
              "    </tr>\n",
              "    <tr>\n",
              "      <th>45412</th>\n",
              "      <td>ce773043-cd63-4cf1-af47-2ffc8b564619</td>\n",
              "      <td>this site is awesome .</td>\n",
              "      <td>4</td>\n",
              "      <td>0</td>\n",
              "      <td>4.5.1156292</td>\n",
              "      <td>2022-12-20 14:26:21</td>\n",
              "      <td>NaN</td>\n",
              "      <td>NaN</td>\n",
              "      <td>USER_EXPERIENCE</td>\n",
              "      <td>POSITIVE</td>\n",
              "    </tr>\n",
              "    <tr>\n",
              "      <th>45413</th>\n",
              "      <td>42bb2d92-7200-4baf-8efa-df358a7a9264</td>\n",
              "      <td>cool newsletter timeline.</td>\n",
              "      <td>5</td>\n",
              "      <td>0</td>\n",
              "      <td>4.5.1156292</td>\n",
              "      <td>2022-12-20 14:17:55</td>\n",
              "      <td>NaN</td>\n",
              "      <td>NaN</td>\n",
              "      <td>CONTENT</td>\n",
              "      <td>POSITIVE</td>\n",
              "    </tr>\n",
              "  </tbody>\n",
              "</table>\n",
              "<p>45414 rows × 10 columns</p>\n",
              "</div>\n",
              "      <button class=\"colab-df-convert\" onclick=\"convertToInteractive('df-c4b1af24-0afd-472d-8ad3-fe784f75fde6')\"\n",
              "              title=\"Convert this dataframe to an interactive table.\"\n",
              "              style=\"display:none;\">\n",
              "        \n",
              "  <svg xmlns=\"http://www.w3.org/2000/svg\" height=\"24px\"viewBox=\"0 0 24 24\"\n",
              "       width=\"24px\">\n",
              "    <path d=\"M0 0h24v24H0V0z\" fill=\"none\"/>\n",
              "    <path d=\"M18.56 5.44l.94 2.06.94-2.06 2.06-.94-2.06-.94-.94-2.06-.94 2.06-2.06.94zm-11 1L8.5 8.5l.94-2.06 2.06-.94-2.06-.94L8.5 2.5l-.94 2.06-2.06.94zm10 10l.94 2.06.94-2.06 2.06-.94-2.06-.94-.94-2.06-.94 2.06-2.06.94z\"/><path d=\"M17.41 7.96l-1.37-1.37c-.4-.4-.92-.59-1.43-.59-.52 0-1.04.2-1.43.59L10.3 9.45l-7.72 7.72c-.78.78-.78 2.05 0 2.83L4 21.41c.39.39.9.59 1.41.59.51 0 1.02-.2 1.41-.59l7.78-7.78 2.81-2.81c.8-.78.8-2.07 0-2.86zM5.41 20L4 18.59l7.72-7.72 1.47 1.35L5.41 20z\"/>\n",
              "  </svg>\n",
              "      </button>\n",
              "      \n",
              "  <style>\n",
              "    .colab-df-container {\n",
              "      display:flex;\n",
              "      flex-wrap:wrap;\n",
              "      gap: 12px;\n",
              "    }\n",
              "\n",
              "    .colab-df-convert {\n",
              "      background-color: #E8F0FE;\n",
              "      border: none;\n",
              "      border-radius: 50%;\n",
              "      cursor: pointer;\n",
              "      display: none;\n",
              "      fill: #1967D2;\n",
              "      height: 32px;\n",
              "      padding: 0 0 0 0;\n",
              "      width: 32px;\n",
              "    }\n",
              "\n",
              "    .colab-df-convert:hover {\n",
              "      background-color: #E2EBFA;\n",
              "      box-shadow: 0px 1px 2px rgba(60, 64, 67, 0.3), 0px 1px 3px 1px rgba(60, 64, 67, 0.15);\n",
              "      fill: #174EA6;\n",
              "    }\n",
              "\n",
              "    [theme=dark] .colab-df-convert {\n",
              "      background-color: #3B4455;\n",
              "      fill: #D2E3FC;\n",
              "    }\n",
              "\n",
              "    [theme=dark] .colab-df-convert:hover {\n",
              "      background-color: #434B5C;\n",
              "      box-shadow: 0px 1px 3px 1px rgba(0, 0, 0, 0.15);\n",
              "      filter: drop-shadow(0px 1px 2px rgba(0, 0, 0, 0.3));\n",
              "      fill: #FFFFFF;\n",
              "    }\n",
              "  </style>\n",
              "\n",
              "      <script>\n",
              "        const buttonEl =\n",
              "          document.querySelector('#df-c4b1af24-0afd-472d-8ad3-fe784f75fde6 button.colab-df-convert');\n",
              "        buttonEl.style.display =\n",
              "          google.colab.kernel.accessAllowed ? 'block' : 'none';\n",
              "\n",
              "        async function convertToInteractive(key) {\n",
              "          const element = document.querySelector('#df-c4b1af24-0afd-472d-8ad3-fe784f75fde6');\n",
              "          const dataTable =\n",
              "            await google.colab.kernel.invokeFunction('convertToInteractive',\n",
              "                                                     [key], {});\n",
              "          if (!dataTable) return;\n",
              "\n",
              "          const docLinkHtml = 'Like what you see? Visit the ' +\n",
              "            '<a target=\"_blank\" href=https://colab.research.google.com/notebooks/data_table.ipynb>data table notebook</a>'\n",
              "            + ' to learn more about interactive tables.';\n",
              "          element.innerHTML = '';\n",
              "          dataTable['output_type'] = 'display_data';\n",
              "          await google.colab.output.renderOutput(dataTable, element);\n",
              "          const docLink = document.createElement('div');\n",
              "          docLink.innerHTML = docLinkHtml;\n",
              "          element.appendChild(docLink);\n",
              "        }\n",
              "      </script>\n",
              "    </div>\n",
              "  </div>\n",
              "  "
            ]
          },
          "metadata": {},
          "execution_count": 63
        }
      ]
    },
    {
      "cell_type": "markdown",
      "source": [
        "#**2. Preprocessing and Preparing the Data**"
      ],
      "metadata": {
        "id": "NxBMAttkFc8M"
      }
    },
    {
      "cell_type": "markdown",
      "source": [
        "Checking for any missing value."
      ],
      "metadata": {
        "id": "20o9Gf-eQW7n"
      }
    },
    {
      "cell_type": "code",
      "source": [
        "fig= plt.subplots(ncols=1, figsize=(8, 4), dpi=100)\n",
        "\n",
        "sns_plot = sns.barplot(x=df.isnull().sum().values, y=df.isnull().sum().index)\n",
        "sns_plot.set_xlabel('Missing Values Count')"
      ],
      "metadata": {
        "colab": {
          "base_uri": "https://localhost:8080/",
          "height": 399
        },
        "id": "mliS23tm7Y0y",
        "outputId": "070f378b-5d99-4607-b426-060107158c7f"
      },
      "execution_count": 64,
      "outputs": [
        {
          "output_type": "execute_result",
          "data": {
            "text/plain": [
              "Text(0.5, 0, 'Missing Values Count')"
            ]
          },
          "metadata": {},
          "execution_count": 64
        },
        {
          "output_type": "display_data",
          "data": {
            "text/plain": [
              "<Figure size 800x400 with 1 Axes>"
            ],
            "image/png": "[encoded data removed]"
          },
          "metadata": {
            "needs_background": "light"
          }
        }
      ]
    },
    {
      "cell_type": "markdown",
      "source": [
        "reviewCreatedVersion, replyContent, and repliedAt have a lot of missing values here. \n",
        "<br>Now let's take a look at the sentiment data distribution."
      ],
      "metadata": {
        "id": "6uGCkk7SQdmc"
      }
    },
    {
      "cell_type": "code",
      "source": [
        "fig= plt.subplots(ncols=1, figsize=(8, 4), dpi=100)\n",
        "\n",
        "sns_plot = sns.barplot(x=df['sentiment'].index, y=df['sentiment'].values)\n",
        "sns_plot.set_title('Sentiment Data Distribution')"
      ],
      "metadata": {
        "colab": {
          "base_uri": "https://localhost:8080/",
          "height": 402
        },
        "id": "97r2_YZxF4Rd",
        "outputId": "9ee208c7-87bb-4982-887f-2ea425bab37f"
      },
      "execution_count": 65,
      "outputs": [
        {
          "output_type": "execute_result",
          "data": {
            "text/plain": [
              "Text(0.5, 1.0, 'Sentiment Data Distribution')"
            ]
          },
          "metadata": {},
          "execution_count": 65
        },
        {
          "output_type": "display_data",
          "data": {
            "text/plain": [
              "<Figure size 800x400 with 1 Axes>"
            ],
            "image/png": "[encoded data removed]"
          },
          "metadata": {
            "needs_background": "light"
          }
        }
      ]
    },
    {
      "cell_type": "markdown",
      "source": [
        "The dataset is good since there is no skewness in the distribution. Since we want to train only content to classify its sentiment, we gonna drop all the useless columns."
      ],
      "metadata": {
        "id": "bti_8ni-G261"
      }
    },
    {
      "cell_type": "code",
      "source": [
        "df2 = df.drop(['reviewId', 'score', 'thumbsUpCount', 'reviewCreatedVersion', 'at', 'replyContent', 'repliedAt', 'predicted_category'], axis=1)\n",
        "df2.head"
      ],
      "metadata": {
        "colab": {
          "base_uri": "https://localhost:8080/"
        },
        "id": "jeEmvQ-U3Zxx",
        "outputId": "d35b1426-4420-40a1-d5cb-e5f7213e9a11"
      },
      "execution_count": 66,
      "outputs": [
        {
          "output_type": "execute_result",
          "data": {
            "text/plain": [
              "<bound method NDFrame.head of                                                  content sentiment\n",
              "0                                                   woww   NEUTRAL\n",
              "1                    let me know more details about this   NEUTRAL\n",
              "2      i've been using this for a while and there's a...  NEGATIVE\n",
              "3                                                   good  POSITIVE\n",
              "4                                                 mjkobe   NEUTRAL\n",
              "...                                                  ...       ...\n",
              "45409                                    very useful app  POSITIVE\n",
              "45410                        try it. see why it rates 1.   NEUTRAL\n",
              "45411         nice and easy very fast updates about news  POSITIVE\n",
              "45412                             this site is awesome .  POSITIVE\n",
              "45413                          cool newsletter timeline.  POSITIVE\n",
              "\n",
              "[45414 rows x 2 columns]>"
            ]
          },
          "metadata": {},
          "execution_count": 66
        }
      ]
    },
    {
      "cell_type": "code",
      "source": [
        "df2 = df2[df2.sentiment != 'NEUTRAL']"
      ],
      "metadata": {
        "id": "RTijz27EJpi3"
      },
      "execution_count": 67,
      "outputs": []
    },
    {
      "cell_type": "code",
      "source": [
        "df2.sentiment.unique()"
      ],
      "metadata": {
        "colab": {
          "base_uri": "https://localhost:8080/"
        },
        "id": "aw4CkimShWOH",
        "outputId": "7e0259db-f2f2-45b7-ca0a-b5dc2ad26939"
      },
      "execution_count": 68,
      "outputs": [
        {
          "output_type": "execute_result",
          "data": {
            "text/plain": [
              "array(['NEGATIVE', 'POSITIVE'], dtype=object)"
            ]
          },
          "metadata": {},
          "execution_count": 68
        }
      ]
    },
    {
      "cell_type": "markdown",
      "source": [
        "#**Text Preprocessing**\n",
        "\n",
        "Lower case all the texts."
      ],
      "metadata": {
        "id": "ctX8qDYty_m2"
      }
    },
    {
      "cell_type": "code",
      "source": [
        "df2['content'] = df2['content'].str.lower()"
      ],
      "metadata": {
        "id": "OkHy7JxS7sip",
        "colab": {
          "base_uri": "https://localhost:8080/"
        },
        "outputId": "974a6754-186d-43ce-967b-8980a666da1b"
      },
      "execution_count": 70,
      "outputs": [
        {
          "output_type": "stream",
          "name": "stderr",
          "text": [
            "<ipython-input-70-1277dc17882c>:1: SettingWithCopyWarning: \n",
            "A value is trying to be set on a copy of a slice from a DataFrame.\n",
            "Try using .loc[row_indexer,col_indexer] = value instead\n",
            "\n",
            "See the caveats in the documentation: https://pandas.pydata.org/pandas-docs/stable/user_guide/indexing.html#returning-a-view-versus-a-copy\n",
            "  df2['content'] = df2['content'].str.lower()\n"
          ]
        }
      ]
    },
    {
      "cell_type": "markdown",
      "source": [
        "Remove the punctuation."
      ],
      "metadata": {
        "id": "4ShrD1cMRX5T"
      }
    },
    {
      "cell_type": "code",
      "source": [
        "df2['content'] = df2['content'].apply(lambda x: re.sub(r'[^\\w\\s]', '', x))"
      ],
      "metadata": {
        "colab": {
          "base_uri": "https://localhost:8080/"
        },
        "id": "qn4aRleoRVyk",
        "outputId": "2075298d-19e7-458c-c2e0-18c4140a99ed"
      },
      "execution_count": 71,
      "outputs": [
        {
          "output_type": "stream",
          "name": "stderr",
          "text": [
            "<ipython-input-71-1a5c54af65fd>:1: SettingWithCopyWarning: \n",
            "A value is trying to be set on a copy of a slice from a DataFrame.\n",
            "Try using .loc[row_indexer,col_indexer] = value instead\n",
            "\n",
            "See the caveats in the documentation: https://pandas.pydata.org/pandas-docs/stable/user_guide/indexing.html#returning-a-view-versus-a-copy\n",
            "  df2['content'] = df2['content'].apply(lambda x: re.sub(r'[^\\w\\s]', '', x))\n"
          ]
        }
      ]
    },
    {
      "cell_type": "markdown",
      "source": [
        "Tokenize the words."
      ],
      "metadata": {
        "id": "bvqwsGrERiHn"
      }
    },
    {
      "cell_type": "code",
      "source": [
        "df2['content'] = df2['content'].apply(lambda x: word_tokenize(x))"
      ],
      "metadata": {
        "id": "HvUFTgQW72dy",
        "colab": {
          "base_uri": "https://localhost:8080/"
        },
        "outputId": "adeaaee8-327d-4ec3-9f1b-914e47e1579b"
      },
      "execution_count": 72,
      "outputs": [
        {
          "output_type": "stream",
          "name": "stderr",
          "text": [
            "<ipython-input-72-73908b00f7e0>:1: SettingWithCopyWarning: \n",
            "A value is trying to be set on a copy of a slice from a DataFrame.\n",
            "Try using .loc[row_indexer,col_indexer] = value instead\n",
            "\n",
            "See the caveats in the documentation: https://pandas.pydata.org/pandas-docs/stable/user_guide/indexing.html#returning-a-view-versus-a-copy\n",
            "  df2['content'] = df2['content'].apply(lambda x: word_tokenize(x))\n"
          ]
        }
      ]
    },
    {
      "cell_type": "markdown",
      "source": [
        "Remove stop words"
      ],
      "metadata": {
        "id": "rp-Vx5UbRm2K"
      }
    },
    {
      "cell_type": "code",
      "source": [
        "stop_words = set(stopwords.words(\"english\"))\n",
        "df2['content'] = df2['content'].apply(lambda x: [word for word in x if word not in stop_words])"
      ],
      "metadata": {
        "colab": {
          "base_uri": "https://localhost:8080/"
        },
        "id": "2S97m6GnBRh4",
        "outputId": "ddc66087-6e79-4815-d932-8fb90bcadc60"
      },
      "execution_count": 73,
      "outputs": [
        {
          "output_type": "stream",
          "name": "stderr",
          "text": [
            "<ipython-input-73-7d78a57f0dac>:2: SettingWithCopyWarning: \n",
            "A value is trying to be set on a copy of a slice from a DataFrame.\n",
            "Try using .loc[row_indexer,col_indexer] = value instead\n",
            "\n",
            "See the caveats in the documentation: https://pandas.pydata.org/pandas-docs/stable/user_guide/indexing.html#returning-a-view-versus-a-copy\n",
            "  df2['content'] = df2['content'].apply(lambda x: [word for word in x if word not in stop_words])\n"
          ]
        }
      ]
    },
    {
      "cell_type": "markdown",
      "source": [
        "Perform lemmatization"
      ],
      "metadata": {
        "id": "SSBU7MRDRr7l"
      }
    },
    {
      "cell_type": "code",
      "source": [
        "lemmatizer = WordNetLemmatizer()\n",
        "df2['content'] = df2['content'].apply(lambda x: [lemmatizer.lemmatize(word) for word in x])"
      ],
      "metadata": {
        "colab": {
          "base_uri": "https://localhost:8080/"
        },
        "id": "hDK7qUAduhkU",
        "outputId": "9bf0a392-2f96-450b-927d-4d353a0ed685"
      },
      "execution_count": 74,
      "outputs": [
        {
          "output_type": "stream",
          "name": "stderr",
          "text": [
            "<ipython-input-74-e9a8ecfc3183>:2: SettingWithCopyWarning: \n",
            "A value is trying to be set on a copy of a slice from a DataFrame.\n",
            "Try using .loc[row_indexer,col_indexer] = value instead\n",
            "\n",
            "See the caveats in the documentation: https://pandas.pydata.org/pandas-docs/stable/user_guide/indexing.html#returning-a-view-versus-a-copy\n",
            "  df2['content'] = df2['content'].apply(lambda x: [lemmatizer.lemmatize(word) for word in x])\n"
          ]
        }
      ]
    },
    {
      "cell_type": "markdown",
      "source": [
        "Join tokenized words back into sentences"
      ],
      "metadata": {
        "id": "jZhETqDp3TlM"
      }
    },
    {
      "cell_type": "code",
      "source": [
        "df2['content'] = df2['content'].apply(lambda x: ' '.join(x))"
      ],
      "metadata": {
        "colab": {
          "base_uri": "https://localhost:8080/"
        },
        "id": "9LHlO9Zwuij9",
        "outputId": "bc9c07ca-bcf3-4a40-c12c-347b199899d3"
      },
      "execution_count": 75,
      "outputs": [
        {
          "output_type": "stream",
          "name": "stderr",
          "text": [
            "<ipython-input-75-d587c63940f2>:1: SettingWithCopyWarning: \n",
            "A value is trying to be set on a copy of a slice from a DataFrame.\n",
            "Try using .loc[row_indexer,col_indexer] = value instead\n",
            "\n",
            "See the caveats in the documentation: https://pandas.pydata.org/pandas-docs/stable/user_guide/indexing.html#returning-a-view-versus-a-copy\n",
            "  df2['content'] = df2['content'].apply(lambda x: ' '.join(x))\n"
          ]
        }
      ]
    },
    {
      "cell_type": "markdown",
      "source": [
        "Convert labels to categorical values"
      ],
      "metadata": {
        "id": "LnnoLxGfR36G"
      }
    },
    {
      "cell_type": "code",
      "source": [
        "sentiment = df2['sentiment'].astype('category').cat.codes\n",
        "df2['sentiment'] = sentiment"
      ],
      "metadata": {
        "colab": {
          "base_uri": "https://localhost:8080/"
        },
        "id": "wpWqMtkGR70Z",
        "outputId": "7b7e5ea8-97fc-47e4-9515-0a51594fbbe1"
      },
      "execution_count": 76,
      "outputs": [
        {
          "output_type": "stream",
          "name": "stderr",
          "text": [
            "<ipython-input-76-18b7c6c78c30>:2: SettingWithCopyWarning: \n",
            "A value is trying to be set on a copy of a slice from a DataFrame.\n",
            "Try using .loc[row_indexer,col_indexer] = value instead\n",
            "\n",
            "See the caveats in the documentation: https://pandas.pydata.org/pandas-docs/stable/user_guide/indexing.html#returning-a-view-versus-a-copy\n",
            "  df2['sentiment'] = sentiment\n"
          ]
        }
      ]
    },
    {
      "cell_type": "code",
      "source": [
        "df2.head(10)"
      ],
      "metadata": {
        "colab": {
          "base_uri": "https://localhost:8080/",
          "height": 363
        },
        "id": "hhe2Uat0tqdd",
        "outputId": "8cd639eb-8736-4e0c-9b41-be7f3f9dbdca"
      },
      "execution_count": 77,
      "outputs": [
        {
          "output_type": "execute_result",
          "data": {
            "text/plain": [
              "                                              content  sentiment\n",
              "2   ive using there basic bug still fixed scrollin...          0\n",
              "3                                                good          1\n",
              "5                                                good          1\n",
              "6   awesome like read different topic great work d...          1\n",
              "7   best thing discovered life thats call nature g...          1\n",
              "8                                        good project          1\n",
              "9   basic search functionality non existent result...          0\n",
              "10                                      great project          1\n",
              "11  wonderful app manager editorial staff idea beh...          1\n",
              "12  medium magazine always provided timely informa...          1"
            ],
            "text/html": [
              "\n",
              "  <div id=\"df-93c1881b-2d6c-4f80-8633-fccff762f4e0\">\n",
              "    <div class=\"colab-df-container\">\n",
              "      <div>\n",
              "<style scoped>\n",
              "    .dataframe tbody tr th:only-of-type {\n",
              "        vertical-align: middle;\n",
              "    }\n",
              "\n",
              "    .dataframe tbody tr th {\n",
              "        vertical-align: top;\n",
              "    }\n",
              "\n",
              "    .dataframe thead th {\n",
              "        text-align: right;\n",
              "    }\n",
              "</style>\n",
              "<table border=\"1\" class=\"dataframe\">\n",
              "  <thead>\n",
              "    <tr style=\"text-align: right;\">\n",
              "      <th></th>\n",
              "      <th>content</th>\n",
              "      <th>sentiment</th>\n",
              "    </tr>\n",
              "  </thead>\n",
              "  <tbody>\n",
              "    <tr>\n",
              "      <th>2</th>\n",
              "      <td>ive using there basic bug still fixed scrollin...</td>\n",
              "      <td>0</td>\n",
              "    </tr>\n",
              "    <tr>\n",
              "      <th>3</th>\n",
              "      <td>good</td>\n",
              "      <td>1</td>\n",
              "    </tr>\n",
              "    <tr>\n",
              "      <th>5</th>\n",
              "      <td>good</td>\n",
              "      <td>1</td>\n",
              "    </tr>\n",
              "    <tr>\n",
              "      <th>6</th>\n",
              "      <td>awesome like read different topic great work d...</td>\n",
              "      <td>1</td>\n",
              "    </tr>\n",
              "    <tr>\n",
              "      <th>7</th>\n",
              "      <td>best thing discovered life thats call nature g...</td>\n",
              "      <td>1</td>\n",
              "    </tr>\n",
              "    <tr>\n",
              "      <th>8</th>\n",
              "      <td>good project</td>\n",
              "      <td>1</td>\n",
              "    </tr>\n",
              "    <tr>\n",
              "      <th>9</th>\n",
              "      <td>basic search functionality non existent result...</td>\n",
              "      <td>0</td>\n",
              "    </tr>\n",
              "    <tr>\n",
              "      <th>10</th>\n",
              "      <td>great project</td>\n",
              "      <td>1</td>\n",
              "    </tr>\n",
              "    <tr>\n",
              "      <th>11</th>\n",
              "      <td>wonderful app manager editorial staff idea beh...</td>\n",
              "      <td>1</td>\n",
              "    </tr>\n",
              "    <tr>\n",
              "      <th>12</th>\n",
              "      <td>medium magazine always provided timely informa...</td>\n",
              "      <td>1</td>\n",
              "    </tr>\n",
              "  </tbody>\n",
              "</table>\n",
              "</div>\n",
              "      <button class=\"colab-df-convert\" onclick=\"convertToInteractive('df-93c1881b-2d6c-4f80-8633-fccff762f4e0')\"\n",
              "              title=\"Convert this dataframe to an interactive table.\"\n",
              "              style=\"display:none;\">\n",
              "        \n",
              "  <svg xmlns=\"http://www.w3.org/2000/svg\" height=\"24px\"viewBox=\"0 0 24 24\"\n",
              "       width=\"24px\">\n",
              "    <path d=\"M0 0h24v24H0V0z\" fill=\"none\"/>\n",
              "    <path d=\"M18.56 5.44l.94 2.06.94-2.06 2.06-.94-2.06-.94-.94-2.06-.94 2.06-2.06.94zm-11 1L8.5 8.5l.94-2.06 2.06-.94-2.06-.94L8.5 2.5l-.94 2.06-2.06.94zm10 10l.94 2.06.94-2.06 2.06-.94-2.06-.94-.94-2.06-.94 2.06-2.06.94z\"/><path d=\"M17.41 7.96l-1.37-1.37c-.4-.4-.92-.59-1.43-.59-.52 0-1.04.2-1.43.59L10.3 9.45l-7.72 7.72c-.78.78-.78 2.05 0 2.83L4 21.41c.39.39.9.59 1.41.59.51 0 1.02-.2 1.41-.59l7.78-7.78 2.81-2.81c.8-.78.8-2.07 0-2.86zM5.41 20L4 18.59l7.72-7.72 1.47 1.35L5.41 20z\"/>\n",
              "  </svg>\n",
              "      </button>\n",
              "      \n",
              "  <style>\n",
              "    .colab-df-container {\n",
              "      display:flex;\n",
              "      flex-wrap:wrap;\n",
              "      gap: 12px;\n",
              "    }\n",
              "\n",
              "    .colab-df-convert {\n",
              "      background-color: #E8F0FE;\n",
              "      border: none;\n",
              "      border-radius: 50%;\n",
              "      cursor: pointer;\n",
              "      display: none;\n",
              "      fill: #1967D2;\n",
              "      height: 32px;\n",
              "      padding: 0 0 0 0;\n",
              "      width: 32px;\n",
              "    }\n",
              "\n",
              "    .colab-df-convert:hover {\n",
              "      background-color: #E2EBFA;\n",
              "      box-shadow: 0px 1px 2px rgba(60, 64, 67, 0.3), 0px 1px 3px 1px rgba(60, 64, 67, 0.15);\n",
              "      fill: #174EA6;\n",
              "    }\n",
              "\n",
              "    [theme=dark] .colab-df-convert {\n",
              "      background-color: #3B4455;\n",
              "      fill: #D2E3FC;\n",
              "    }\n",
              "\n",
              "    [theme=dark] .colab-df-convert:hover {\n",
              "      background-color: #434B5C;\n",
              "      box-shadow: 0px 1px 3px 1px rgba(0, 0, 0, 0.15);\n",
              "      filter: drop-shadow(0px 1px 2px rgba(0, 0, 0, 0.3));\n",
              "      fill: #FFFFFF;\n",
              "    }\n",
              "  </style>\n",
              "\n",
              "      <script>\n",
              "        const buttonEl =\n",
              "          document.querySelector('#df-93c1881b-2d6c-4f80-8633-fccff762f4e0 button.colab-df-convert');\n",
              "        buttonEl.style.display =\n",
              "          google.colab.kernel.accessAllowed ? 'block' : 'none';\n",
              "\n",
              "        async function convertToInteractive(key) {\n",
              "          const element = document.querySelector('#df-93c1881b-2d6c-4f80-8633-fccff762f4e0');\n",
              "          const dataTable =\n",
              "            await google.colab.kernel.invokeFunction('convertToInteractive',\n",
              "                                                     [key], {});\n",
              "          if (!dataTable) return;\n",
              "\n",
              "          const docLinkHtml = 'Like what you see? Visit the ' +\n",
              "            '<a target=\"_blank\" href=https://colab.research.google.com/notebooks/data_table.ipynb>data table notebook</a>'\n",
              "            + ' to learn more about interactive tables.';\n",
              "          element.innerHTML = '';\n",
              "          dataTable['output_type'] = 'display_data';\n",
              "          await google.colab.output.renderOutput(dataTable, element);\n",
              "          const docLink = document.createElement('div');\n",
              "          docLink.innerHTML = docLinkHtml;\n",
              "          element.appendChild(docLink);\n",
              "        }\n",
              "      </script>\n",
              "    </div>\n",
              "  </div>\n",
              "  "
            ]
          },
          "metadata": {},
          "execution_count": 77
        }
      ]
    },
    {
      "cell_type": "markdown",
      "source": [
        "We are going to use GloVe for vectorization.\n",
        "\n",
        "\n",
        "\n"
      ],
      "metadata": {
        "id": "dcQFcde3SD2a"
      }
    },
    {
      "cell_type": "code",
      "source": [
        "!wget http://nlp.stanford.edu/data/glove.6B.zip\n",
        "!unzip glove.6B.zip"
      ],
      "metadata": {
        "colab": {
          "base_uri": "https://localhost:8080/"
        },
        "id": "LXtZ1_0DwCWP",
        "outputId": "a1d86aa5-3dd0-4cb1-fe81-cee1826fca14"
      },
      "execution_count": 78,
      "outputs": [
        {
          "output_type": "stream",
          "name": "stdout",
          "text": [
            "--2023-02-06 17:42:35--  http://nlp.stanford.edu/data/glove.6B.zip\n",
            "Resolving nlp.stanford.edu (nlp.stanford.edu)... 171.64.67.140\n",
            "Connecting to nlp.stanford.edu (nlp.stanford.edu)|171.64.67.140|:80... connected.\n",
            "HTTP request sent, awaiting response... 302 Found\n",
            "Location: https://nlp.stanford.edu/data/glove.6B.zip [following]\n",
            "--2023-02-06 17:42:35--  https://nlp.stanford.edu/data/glove.6B.zip\n",
            "Connecting to nlp.stanford.edu (nlp.stanford.edu)|171.64.67.140|:443... connected.\n",
            "HTTP request sent, awaiting response... 301 Moved Permanently\n",
            "Location: https://downloads.cs.stanford.edu/nlp/data/glove.6B.zip [following]\n",
            "--2023-02-06 17:42:36--  https://downloads.cs.stanford.edu/nlp/data/glove.6B.zip\n",
            "Resolving downloads.cs.stanford.edu (downloads.cs.stanford.edu)... 171.64.64.22\n",
            "Connecting to downloads.cs.stanford.edu (downloads.cs.stanford.edu)|171.64.64.22|:443... connected.\n",
            "HTTP request sent, awaiting response... 200 OK\n",
            "Length: 862182613 (822M) [application/zip]\n",
            "Saving to: ‘glove.6B.zip.1’\n",
            "\n",
            "glove.6B.zip.1        8%[>                   ]  71.05M  5.10MB/s    eta 1m 56s ^C\n",
            "Archive:  glove.6B.zip\n",
            "replace glove.6B.50d.txt? [y]es, [n]o, [A]ll, [N]one, [r]ename: N\n"
          ]
        }
      ]
    },
    {
      "cell_type": "code",
      "source": [
        "glove_path = '/content/glove.6B.300d.txt'\n",
        "embedding_dim = 300"
      ],
      "metadata": {
        "id": "-LLWAcWUwCYd"
      },
      "execution_count": 79,
      "outputs": []
    },
    {
      "cell_type": "code",
      "source": [
        "from tensorflow.keras.preprocessing.text import Tokenizer\n",
        "\n",
        "tokenizer = Tokenizer()\n",
        "tokenizer.fit_on_texts(df2.content) "
      ],
      "metadata": {
        "id": "eolzBdV0wxBQ"
      },
      "execution_count": 80,
      "outputs": []
    },
    {
      "cell_type": "code",
      "source": [
        "word_index = tokenizer.word_index\n",
        "vocab_size = len(tokenizer.word_index) + 1\n",
        "print(\"\\nVocabulary Size :\", vocab_size)  \n"
      ],
      "metadata": {
        "colab": {
          "base_uri": "https://localhost:8080/"
        },
        "id": "kcmWuW3hwxEv",
        "outputId": "53d9f36b-00bf-478e-f91e-a384347a5904"
      },
      "execution_count": 81,
      "outputs": [
        {
          "output_type": "stream",
          "name": "stdout",
          "text": [
            "\n",
            "Vocabulary Size : 14203\n"
          ]
        }
      ]
    },
    {
      "cell_type": "code",
      "source": [
        "embeddings_index = {}\n",
        "\n",
        "### Processing the file\n",
        "for line in open(glove_path):\n",
        "    values = line.split()\n",
        "    word = value = values[0]\n",
        "    coefs = np.asarray(values[1:], dtype='float32')\n",
        "    embeddings_index[word] = coefs\n",
        "\n",
        "print('Found %s word vectors.' %len(embeddings_index))"
      ],
      "metadata": {
        "colab": {
          "base_uri": "https://localhost:8080/"
        },
        "id": "DXChpdHUhrgs",
        "outputId": "a2e5bf60-805a-44bc-b3f8-0534e69b8e51"
      },
      "execution_count": 82,
      "outputs": [
        {
          "output_type": "stream",
          "name": "stdout",
          "text": [
            "Found 400000 word vectors.\n"
          ]
        }
      ]
    },
    {
      "cell_type": "code",
      "source": [
        "embedding_matrix = np.zeros((vocab_size, embedding_dim))  \n",
        "for word, i in word_index.items():  ### unpacking the dictionary\n",
        "    ### Checking whether the word exists in the pretrained embeddings_index\n",
        "    embedding_vector = embeddings_index.get(word)  \n",
        "    if embedding_vector is not None:\n",
        "        embedding_matrix[i] = embedding_vector"
      ],
      "metadata": {
        "id": "SFIQRdIOuFjr"
      },
      "execution_count": 83,
      "outputs": []
    },
    {
      "cell_type": "code",
      "source": [
        "embedding_layer = Embedding(vocab_size,embedding_dim,\n",
        "                                        weights=[embedding_matrix],\n",
        "                                          input_length=30, ### length of longest sentence\n",
        "                                          trainable=False)"
      ],
      "metadata": {
        "id": "ZDWckZQ2uFli"
      },
      "execution_count": 84,
      "outputs": []
    },
    {
      "cell_type": "markdown",
      "source": [
        "#**Train Test Split**"
      ],
      "metadata": {
        "id": "-EWJAWCJGTXr"
      }
    },
    {
      "cell_type": "code",
      "source": [
        "train_data, test_data = train_test_split(df2[[\"sentiment\",\"content\"]], test_size=0.2,\n",
        "                                         random_state=23)"
      ],
      "metadata": {
        "id": "CQ6gmuYpynPh"
      },
      "execution_count": 85,
      "outputs": []
    },
    {
      "cell_type": "code",
      "source": [
        "from tensorflow.keras.preprocessing.sequence import pad_sequences\n",
        "\n",
        "x_train = pad_sequences(tokenizer.texts_to_sequences(train_data.content),\n",
        "                        maxlen = 30)\n",
        "x_test = pad_sequences(tokenizer.texts_to_sequences(test_data.content),\n",
        "                       maxlen = 30)\n",
        "\n",
        "print(\"Training X Shape:\",x_train.shape)\n",
        "print(\"Testing X Shape:\",x_test.shape)"
      ],
      "metadata": {
        "id": "Tgx1HUKlp2Lm",
        "colab": {
          "base_uri": "https://localhost:8080/"
        },
        "outputId": "bee51a68-1654-4cb8-d9fd-86e03a1ddca2"
      },
      "execution_count": 86,
      "outputs": [
        {
          "output_type": "stream",
          "name": "stdout",
          "text": [
            "Training X Shape: (31620, 30)\n",
            "Testing X Shape: (7905, 30)\n"
          ]
        }
      ]
    },
    {
      "cell_type": "code",
      "source": [
        "from sklearn.preprocessing import LabelEncoder\n",
        "encoder = LabelEncoder()\n",
        "encoder.fit(train_data.sentiment.to_list())\n",
        "\n",
        "y_train = encoder.transform(train_data.sentiment.to_list())\n",
        "y_test = encoder.transform(test_data.sentiment.to_list())\n",
        "\n",
        "y_train = y_train.reshape(-1,1)\n",
        "y_test = y_test.reshape(-1,1)\n",
        "\n",
        "print(\"y_train shape:\", y_train.shape)\n",
        "print(\"y_test shape:\", y_test.shape)"
      ],
      "metadata": {
        "colab": {
          "base_uri": "https://localhost:8080/"
        },
        "id": "T1dP4iYXjrxg",
        "outputId": "fb2ae27d-faa7-40f1-a242-9d8e56e3b484"
      },
      "execution_count": 87,
      "outputs": [
        {
          "output_type": "stream",
          "name": "stdout",
          "text": [
            "y_train shape: (31620, 1)\n",
            "y_test shape: (7905, 1)\n"
          ]
        }
      ]
    },
    {
      "cell_type": "markdown",
      "source": [
        "#**The Bidirectional RNN model**"
      ],
      "metadata": {
        "id": "W2lfgaAkBDr7"
      }
    },
    {
      "cell_type": "code",
      "source": [
        "import tensorflow as tf\n",
        "from tensorflow.keras.layers import Input,Dense,SimpleRNN,Embedding,Conv1D,Bidirectional,SpatialDropout1D,Dropout\n",
        "\n",
        "from keras.optimizers import Adam\n",
        "\n",
        "sequence_input = Input(shape=(30,), dtype='int32')\n",
        "embedding_sequences = embedding_layer(sequence_input)\n",
        "x = SpatialDropout1D(0.2)(embedding_sequences)\n",
        "x = Conv1D(64, 5, activation='relu')(x)\n",
        "x = Bidirectional(SimpleRNN(64, dropout=0.2, recurrent_dropout=0.2))(x)\n",
        "x = Dense(512, activation='relu')(x)\n",
        "x = Dropout(0.5)(x)\n",
        "x = Dense(512, activation='relu')(x)\n",
        "outputs = Dense(1, activation='sigmoid')(x)\n",
        "model = tf.keras.Model(sequence_input, outputs) \n",
        "\n",
        "model.compile(loss='categorical_crossentropy', optimizer=Adam(learning_rate = 0.001), metrics=['accuracy'])"
      ],
      "metadata": {
        "id": "13o7RZ9atF9L"
      },
      "execution_count": 88,
      "outputs": []
    },
    {
      "cell_type": "code",
      "source": [
        "model.summary()"
      ],
      "metadata": {
        "colab": {
          "base_uri": "https://localhost:8080/"
        },
        "id": "j79l0AOCoB7W",
        "outputId": "bd2a27a2-cca1-4549-d518-3d5053dc5a53"
      },
      "execution_count": 89,
      "outputs": [
        {
          "output_type": "stream",
          "name": "stdout",
          "text": [
            "Model: \"model_1\"\n",
            "_________________________________________________________________\n",
            " Layer (type)                Output Shape              Param #   \n",
            "=================================================================\n",
            " input_2 (InputLayer)        [(None, 30)]              0         \n",
            "                                                                 \n",
            " embedding_5 (Embedding)     (None, 30, 300)           4260900   \n",
            "                                                                 \n",
            " spatial_dropout1d_1 (Spatia  (None, 30, 300)          0         \n",
            " lDropout1D)                                                     \n",
            "                                                                 \n",
            " conv1d_1 (Conv1D)           (None, 26, 64)            96064     \n",
            "                                                                 \n",
            " bidirectional_4 (Bidirectio  (None, 128)              16512     \n",
            " nal)                                                            \n",
            "                                                                 \n",
            " dense_12 (Dense)            (None, 512)               66048     \n",
            "                                                                 \n",
            " dropout_1 (Dropout)         (None, 512)               0         \n",
            "                                                                 \n",
            " dense_13 (Dense)            (None, 512)               262656    \n",
            "                                                                 \n",
            " dense_14 (Dense)            (None, 1)                 513       \n",
            "                                                                 \n",
            "=================================================================\n",
            "Total params: 4,702,693\n",
            "Trainable params: 441,793\n",
            "Non-trainable params: 4,260,900\n",
            "_________________________________________________________________\n"
          ]
        }
      ]
    },
    {
      "cell_type": "markdown",
      "source": [
        "I chose this architecture for a few reasons:\n",
        "\n",
        "\n",
        "1.   Simplicity: This architecture is simple and easy to understand, making it a good starting point for a beginner or someone who is just testing the waters of semantic segmentation.\n",
        "\n",
        "2.   Flexibility: This architecture is flexible and can be modified or extended to include more layers or different types of layers depending on the specific problem and data.\n",
        "3. Speed: This architecture is computationally efficient, which means it can be trained and evaluated quickly. This is especially important when dealing with large datasets or complex problems.\n",
        "4. Effectiveness: This architecture can be effective in solving simple semantic segmentation problems, as long as the input data is linearly separable. If not, you may have to consider adding more complex layers like convolutional layers or recurrent layers.\n",
        "\n",
        "Overall, the architecture is a good starting point for simple semantic segmentation problems, and can be used as a building block for more complex models.\n",
        "\n"
      ],
      "metadata": {
        "id": "VkuR-dlRYtCH"
      }
    },
    {
      "cell_type": "markdown",
      "source": [
        "#**Train the model**"
      ],
      "metadata": {
        "id": "T1_D68a4Sf6S"
      }
    },
    {
      "cell_type": "code",
      "source": [
        "early_stopping = tf.keras.callbacks.EarlyStopping(monitor='val_loss', patience=5)\n",
        "\n",
        "history = model.fit(x_train, y_train, epochs=20,validation_data=(x_test, y_test), batch_size = 1024,callbacks=[early_stopping])"
      ],
      "metadata": {
        "colab": {
          "base_uri": "https://localhost:8080/"
        },
        "id": "qCuDFFkfSXWc",
        "outputId": "99c2e4a0-5b53-4e81-f6f2-81a1577ba112"
      },
      "execution_count": 90,
      "outputs": [
        {
          "output_type": "stream",
          "name": "stdout",
          "text": [
            "Epoch 1/20\n",
            "31/31 [==============================] - 16s 457ms/step - loss: 0.0000e+00 - accuracy: 0.1358 - val_loss: 0.0000e+00 - val_accuracy: 0.1370\n",
            "Epoch 2/20\n",
            "31/31 [==============================] - 14s 453ms/step - loss: 0.0000e+00 - accuracy: 0.1316 - val_loss: 0.0000e+00 - val_accuracy: 0.1370\n",
            "Epoch 3/20\n",
            "31/31 [==============================] - 14s 448ms/step - loss: 0.0000e+00 - accuracy: 0.1316 - val_loss: 0.0000e+00 - val_accuracy: 0.1370\n",
            "Epoch 4/20\n",
            "31/31 [==============================] - 14s 441ms/step - loss: 0.0000e+00 - accuracy: 0.1316 - val_loss: 0.0000e+00 - val_accuracy: 0.1370\n",
            "Epoch 5/20\n",
            "31/31 [==============================] - 14s 443ms/step - loss: 0.0000e+00 - accuracy: 0.1316 - val_loss: 0.0000e+00 - val_accuracy: 0.1370\n",
            "Epoch 6/20\n",
            "31/31 [==============================] - 14s 443ms/step - loss: 0.0000e+00 - accuracy: 0.1316 - val_loss: 0.0000e+00 - val_accuracy: 0.1370\n"
          ]
        }
      ]
    },
    {
      "cell_type": "markdown",
      "source": [
        "#**Result**"
      ],
      "metadata": {
        "id": "ba1bDDRHlXu6"
      }
    },
    {
      "cell_type": "code",
      "source": [
        "pred = model.predict(x_test)\n",
        "pred[:5]"
      ],
      "metadata": {
        "id": "fRV5RoGNlaWV",
        "colab": {
          "base_uri": "https://localhost:8080/"
        },
        "outputId": "4334e686-370e-4001-8448-5e9e3c9623e8"
      },
      "execution_count": 91,
      "outputs": [
        {
          "output_type": "stream",
          "name": "stdout",
          "text": [
            "248/248 [==============================] - 2s 9ms/step\n"
          ]
        },
        {
          "output_type": "execute_result",
          "data": {
            "text/plain": [
              "array([[0.],\n",
              "       [0.],\n",
              "       [0.],\n",
              "       [0.],\n",
              "       [0.]], dtype=float32)"
            ]
          },
          "metadata": {},
          "execution_count": 91
        }
      ]
    },
    {
      "cell_type": "code",
      "source": [
        "pred = np.round(pred).astype(int)\n",
        "pred[:5]"
      ],
      "metadata": {
        "id": "gU-hCAKjlbT8",
        "colab": {
          "base_uri": "https://localhost:8080/"
        },
        "outputId": "d6ffc408-8ba2-4e7b-df12-d90b4fc5dc1c"
      },
      "execution_count": 92,
      "outputs": [
        {
          "output_type": "execute_result",
          "data": {
            "text/plain": [
              "array([[0],\n",
              "       [0],\n",
              "       [0],\n",
              "       [0],\n",
              "       [0]])"
            ]
          },
          "metadata": {},
          "execution_count": 92
        }
      ]
    },
    {
      "cell_type": "code",
      "source": [
        "print(classification_report(y_test, pred, target_names = ['NEGATIVE','POSITIVE']))"
      ],
      "metadata": {
        "id": "c_gGY5lilfK7",
        "colab": {
          "base_uri": "https://localhost:8080/"
        },
        "outputId": "94ad38b3-5246-4674-eff5-8fe6fa926943"
      },
      "execution_count": 93,
      "outputs": [
        {
          "output_type": "stream",
          "name": "stdout",
          "text": [
            "              precision    recall  f1-score   support\n",
            "\n",
            "    NEGATIVE       0.14      1.00      0.24      1083\n",
            "    POSITIVE       0.00      0.00      0.00      6822\n",
            "\n",
            "    accuracy                           0.14      7905\n",
            "   macro avg       0.07      0.50      0.12      7905\n",
            "weighted avg       0.02      0.14      0.03      7905\n",
            "\n"
          ]
        },
        {
          "output_type": "stream",
          "name": "stderr",
          "text": [
            "/usr/local/lib/python3.8/dist-packages/sklearn/metrics/_classification.py:1318: UndefinedMetricWarning: Precision and F-score are ill-defined and being set to 0.0 in labels with no predicted samples. Use `zero_division` parameter to control this behavior.\n",
            "  _warn_prf(average, modifier, msg_start, len(result))\n",
            "/usr/local/lib/python3.8/dist-packages/sklearn/metrics/_classification.py:1318: UndefinedMetricWarning: Precision and F-score are ill-defined and being set to 0.0 in labels with no predicted samples. Use `zero_division` parameter to control this behavior.\n",
            "  _warn_prf(average, modifier, msg_start, len(result))\n",
            "/usr/local/lib/python3.8/dist-packages/sklearn/metrics/_classification.py:1318: UndefinedMetricWarning: Precision and F-score are ill-defined and being set to 0.0 in labels with no predicted samples. Use `zero_division` parameter to control this behavior.\n",
            "  _warn_prf(average, modifier, msg_start, len(result))\n"
          ]
        }
      ]
    }
  ]
}