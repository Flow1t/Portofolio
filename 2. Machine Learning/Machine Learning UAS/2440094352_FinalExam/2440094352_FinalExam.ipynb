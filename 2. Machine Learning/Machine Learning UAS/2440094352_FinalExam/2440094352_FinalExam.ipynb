{
 "cells": [
  {
   "cell_type": "markdown",
   "metadata": {},
   "source": [
    "# [FinalExam]-[MATH6149016 ; MATH6149049 ]-[MachineLearning]"
   ]
  },
  {
   "cell_type": "markdown",
   "metadata": {},
   "source": [
    "**Thursday, July 14, 2022.**"
   ]
  },
  {
   "cell_type": "markdown",
   "metadata": {},
   "source": [
    "**Student Name**  :Devin Augustin   \n",
    "**Student ID**    :2440094352     "
   ]
  },
  {
   "cell_type": "markdown",
   "metadata": {},
   "source": [
    "* [Dataset Link](https://data.cityofchicago.org/Public-Safety/Crimes-2001-to-present/ijzp-q8t2/data)\n",
    "## <strong>Dataset Description</strong>\n",
    "<br>\n",
    " <strong>a record of the crimes that have occurred in Chicago</strong>\n",
    " <br>\n",
    "<ul><li><strong>Domestic :</strong> Indicates whether the incident was domestic-related as defined by the Illinois Domestic Violence Act.</li>\n",
    "    <li><strong>Beat :</strong> Indicates the beat where the incident occurred. A beat is the smallest police geographic area – each beat has a dedicated police beat car. Three to five beats make up a police sector, and three sectors make up a police district. The Chicago Police Department has 22 police districts.</li>\n",
    "    <li><strong>District :</strong> Indicates the police district where the incident occurred</li>\n",
    "    <li><strong>Ward :</strong> The ward(City Council District) where the incident occurred</li>\n",
    "    <li><strong>Community Are :</strong> Indicates the community area where the incident occurred. Chicago has 77 community areas.</li>\n",
    "    <li><strong>FBI Code :</strong> Indicates the crime classification as outlined in the FBI's National Incident-Based Reporting System (NIBRS).</li>\n",
    "    <li><strong>Date :</strong> A given month (1 : January, 12 : December); a given hour (1 to 23)</li>\n",
    "</ul>"
   ]
  },
  {
   "cell_type": "markdown",
   "metadata": {},
   "source": [
    "**NOTES:**\n",
    "<li>You are required to build <strong>'the BEST and suitable'</strong> supervised machine learning model for the given dataset. The model may be used for the effective deployment of police officers in a city across several districts regarding the degree to which each area is prone to crime at a particular hour, day, and month. </li>\n",
    "<li>Build multiple potentially suitable machine learning models (at least 2 different machine learning models).</li>\n",
    "<li>You have to evaluate the models using at least 2 performance metrics before choose what you assume to be the `\"best\"` model for the given dataset.</li>"
   ]
  },
  {
   "cell_type": "markdown",
   "metadata": {},
   "source": [
    "**HINT:** \n",
    "1. You need to generate the target feature by **performing feature engineering on `Date` and `Primary Type` features** to group crimes together\n",
    "<br>\n",
    "2. Level of Crime Rate:\n",
    "<ul><li><strong>0-14 : </strong>Low Crime Rate</li>\n",
    "<li><strong>15-33 : </strong>Medium Crime Rate</li>\n",
    "<li><strong>34 and above : </strong>High Crime Rate</li>\n",
    "<br>\n",
    "3. You may need to check the data proportion in each class (imbalance/not)"
   ]
  },
  {
   "cell_type": "markdown",
   "metadata": {},
   "source": [
    "## 1. Load the neccessary Libraries and Data (2 pts.)"
   ]
  },
  {
   "cell_type": "markdown",
   "metadata": {},
   "source": [
    "Import the necessary libraries and the dataset"
   ]
  },
  {
   "cell_type": "code",
   "execution_count": 1,
   "metadata": {},
   "outputs": [],
   "source": [
    "import pandas as pd \n",
    "import numpy as np \n",
    "import matplotlib.pyplot as plt\n",
    "import seaborn as sns"
   ]
  },
  {
   "cell_type": "code",
   "execution_count": 2,
   "metadata": {},
   "outputs": [],
   "source": [
    "df = pd.read_csv('C:/Users/DEVIN/Desktop/UAS Sem 4/UAS_MATH6149049_MachineLearning/evenID.csv')"
   ]
  },
  {
   "cell_type": "markdown",
   "metadata": {},
   "source": [
    "## 2. Data Exploration (15 pts.)"
   ]
  },
  {
   "cell_type": "markdown",
   "metadata": {},
   "source": [
    "Let's look at the data."
   ]
  },
  {
   "cell_type": "code",
   "execution_count": 3,
   "metadata": {},
   "outputs": [
    {
     "data": {
      "text/html": [
       "<div>\n",
       "<style scoped>\n",
       "    .dataframe tbody tr th:only-of-type {\n",
       "        vertical-align: middle;\n",
       "    }\n",
       "\n",
       "    .dataframe tbody tr th {\n",
       "        vertical-align: top;\n",
       "    }\n",
       "\n",
       "    .dataframe thead th {\n",
       "        text-align: right;\n",
       "    }\n",
       "</style>\n",
       "<table border=\"1\" class=\"dataframe\">\n",
       "  <thead>\n",
       "    <tr style=\"text-align: right;\">\n",
       "      <th></th>\n",
       "      <th>Unnamed: 0</th>\n",
       "      <th>ID</th>\n",
       "      <th>Case Number</th>\n",
       "      <th>Date</th>\n",
       "      <th>Block</th>\n",
       "      <th>IUCR</th>\n",
       "      <th>Primary Type</th>\n",
       "      <th>Description</th>\n",
       "      <th>Location Description</th>\n",
       "      <th>Arrest</th>\n",
       "      <th>...</th>\n",
       "      <th>Ward</th>\n",
       "      <th>Community Area</th>\n",
       "      <th>FBI Code</th>\n",
       "      <th>X Coordinate</th>\n",
       "      <th>Y Coordinate</th>\n",
       "      <th>Year</th>\n",
       "      <th>Updated On</th>\n",
       "      <th>Latitude</th>\n",
       "      <th>Longitude</th>\n",
       "      <th>Location</th>\n",
       "    </tr>\n",
       "  </thead>\n",
       "  <tbody>\n",
       "    <tr>\n",
       "      <th>0</th>\n",
       "      <td>861410</td>\n",
       "      <td>11476552</td>\n",
       "      <td>JB475560</td>\n",
       "      <td>10/14/2018 06:51:00 PM</td>\n",
       "      <td>039XX W OGDEN AVE</td>\n",
       "      <td>0820</td>\n",
       "      <td>THEFT</td>\n",
       "      <td>$500 AND UNDER</td>\n",
       "      <td>SMALL RETAIL STORE</td>\n",
       "      <td>True</td>\n",
       "      <td>...</td>\n",
       "      <td>22.0</td>\n",
       "      <td>29.0</td>\n",
       "      <td>06</td>\n",
       "      <td>1150286.0</td>\n",
       "      <td>1889027.0</td>\n",
       "      <td>2018</td>\n",
       "      <td>10/21/2018 04:09:44 PM</td>\n",
       "      <td>41.851393</td>\n",
       "      <td>-87.723904</td>\n",
       "      <td>(41.851393305, -87.723903515)</td>\n",
       "    </tr>\n",
       "    <tr>\n",
       "      <th>1</th>\n",
       "      <td>783641</td>\n",
       "      <td>10828749</td>\n",
       "      <td>JA130110</td>\n",
       "      <td>01/25/2017 11:00:00 PM</td>\n",
       "      <td>011XX S OAKLEY BLVD</td>\n",
       "      <td>031A</td>\n",
       "      <td>ROBBERY</td>\n",
       "      <td>ARMED: HANDGUN</td>\n",
       "      <td>STREET</td>\n",
       "      <td>False</td>\n",
       "      <td>...</td>\n",
       "      <td>25.0</td>\n",
       "      <td>28.0</td>\n",
       "      <td>03</td>\n",
       "      <td>1161221.0</td>\n",
       "      <td>1894904.0</td>\n",
       "      <td>2017</td>\n",
       "      <td>02/14/2017 03:49:42 PM</td>\n",
       "      <td>41.867300</td>\n",
       "      <td>-87.683606</td>\n",
       "      <td>(41.867300404, -87.683606131)</td>\n",
       "    </tr>\n",
       "    <tr>\n",
       "      <th>2</th>\n",
       "      <td>650716</td>\n",
       "      <td>11031423</td>\n",
       "      <td>JA363907</td>\n",
       "      <td>07/26/2017 12:30:00 AM</td>\n",
       "      <td>018XX N CLARK ST</td>\n",
       "      <td>0910</td>\n",
       "      <td>MOTOR VEHICLE THEFT</td>\n",
       "      <td>AUTOMOBILE</td>\n",
       "      <td>PARKING LOT/GARAGE(NON.RESID.)</td>\n",
       "      <td>False</td>\n",
       "      <td>...</td>\n",
       "      <td>43.0</td>\n",
       "      <td>7.0</td>\n",
       "      <td>07</td>\n",
       "      <td>1174558.0</td>\n",
       "      <td>1912475.0</td>\n",
       "      <td>2017</td>\n",
       "      <td>02/10/2018 03:50:01 PM</td>\n",
       "      <td>41.915229</td>\n",
       "      <td>-87.634119</td>\n",
       "      <td>(41.915228778, -87.634118723)</td>\n",
       "    </tr>\n",
       "    <tr>\n",
       "      <th>3</th>\n",
       "      <td>496462</td>\n",
       "      <td>10430338</td>\n",
       "      <td>HZ168230</td>\n",
       "      <td>02/26/2016 03:00:00 AM</td>\n",
       "      <td>002XX W JACKSON BLVD</td>\n",
       "      <td>0860</td>\n",
       "      <td>THEFT</td>\n",
       "      <td>RETAIL THEFT</td>\n",
       "      <td>CONVENIENCE STORE</td>\n",
       "      <td>False</td>\n",
       "      <td>...</td>\n",
       "      <td>2.0</td>\n",
       "      <td>32.0</td>\n",
       "      <td>06</td>\n",
       "      <td>1174641.0</td>\n",
       "      <td>1898950.0</td>\n",
       "      <td>2016</td>\n",
       "      <td>02/10/2018 03:50:01 PM</td>\n",
       "      <td>41.878114</td>\n",
       "      <td>-87.634219</td>\n",
       "      <td>(41.878113603, -87.634218691)</td>\n",
       "    </tr>\n",
       "    <tr>\n",
       "      <th>4</th>\n",
       "      <td>946330</td>\n",
       "      <td>11361027</td>\n",
       "      <td>JB324433</td>\n",
       "      <td>06/26/2018 12:30:00 PM</td>\n",
       "      <td>0000X E MONROE ST</td>\n",
       "      <td>0890</td>\n",
       "      <td>THEFT</td>\n",
       "      <td>FROM BUILDING</td>\n",
       "      <td>SMALL RETAIL STORE</td>\n",
       "      <td>False</td>\n",
       "      <td>...</td>\n",
       "      <td>42.0</td>\n",
       "      <td>32.0</td>\n",
       "      <td>06</td>\n",
       "      <td>1176686.0</td>\n",
       "      <td>1899939.0</td>\n",
       "      <td>2018</td>\n",
       "      <td>07/03/2018 03:55:36 PM</td>\n",
       "      <td>41.880782</td>\n",
       "      <td>-87.626680</td>\n",
       "      <td>(41.880781519, -87.626680112)</td>\n",
       "    </tr>\n",
       "    <tr>\n",
       "      <th>...</th>\n",
       "      <td>...</td>\n",
       "      <td>...</td>\n",
       "      <td>...</td>\n",
       "      <td>...</td>\n",
       "      <td>...</td>\n",
       "      <td>...</td>\n",
       "      <td>...</td>\n",
       "      <td>...</td>\n",
       "      <td>...</td>\n",
       "      <td>...</td>\n",
       "      <td>...</td>\n",
       "      <td>...</td>\n",
       "      <td>...</td>\n",
       "      <td>...</td>\n",
       "      <td>...</td>\n",
       "      <td>...</td>\n",
       "      <td>...</td>\n",
       "      <td>...</td>\n",
       "      <td>...</td>\n",
       "      <td>...</td>\n",
       "      <td>...</td>\n",
       "    </tr>\n",
       "    <tr>\n",
       "      <th>1031739</th>\n",
       "      <td>438936</td>\n",
       "      <td>10525983</td>\n",
       "      <td>HZ267425</td>\n",
       "      <td>05/16/2016 08:50:00 PM</td>\n",
       "      <td>015XX E 53RD ST</td>\n",
       "      <td>0890</td>\n",
       "      <td>THEFT</td>\n",
       "      <td>FROM BUILDING</td>\n",
       "      <td>OTHER</td>\n",
       "      <td>False</td>\n",
       "      <td>...</td>\n",
       "      <td>4.0</td>\n",
       "      <td>41.0</td>\n",
       "      <td>06</td>\n",
       "      <td>1187505.0</td>\n",
       "      <td>1870429.0</td>\n",
       "      <td>2016</td>\n",
       "      <td>02/10/2018 03:50:01 PM</td>\n",
       "      <td>41.799553</td>\n",
       "      <td>-87.587895</td>\n",
       "      <td>(41.799553224, -87.587894753)</td>\n",
       "    </tr>\n",
       "    <tr>\n",
       "      <th>1031740</th>\n",
       "      <td>324649</td>\n",
       "      <td>10708413</td>\n",
       "      <td>HZ465384</td>\n",
       "      <td>10/07/2016 06:00:00 PM</td>\n",
       "      <td>066XX W FULLERTON AVE</td>\n",
       "      <td>0870</td>\n",
       "      <td>THEFT</td>\n",
       "      <td>POCKET-PICKING</td>\n",
       "      <td>SMALL RETAIL STORE</td>\n",
       "      <td>False</td>\n",
       "      <td>...</td>\n",
       "      <td>36.0</td>\n",
       "      <td>19.0</td>\n",
       "      <td>06</td>\n",
       "      <td>NaN</td>\n",
       "      <td>NaN</td>\n",
       "      <td>2016</td>\n",
       "      <td>10/14/2016 04:07:57 PM</td>\n",
       "      <td>NaN</td>\n",
       "      <td>NaN</td>\n",
       "      <td>NaN</td>\n",
       "    </tr>\n",
       "    <tr>\n",
       "      <th>1031741</th>\n",
       "      <td>382880</td>\n",
       "      <td>10612722</td>\n",
       "      <td>HZ365526</td>\n",
       "      <td>07/26/2016 03:45:00 PM</td>\n",
       "      <td>0000X W MADISON ST</td>\n",
       "      <td>0820</td>\n",
       "      <td>THEFT</td>\n",
       "      <td>$500 AND UNDER</td>\n",
       "      <td>SIDEWALK</td>\n",
       "      <td>False</td>\n",
       "      <td>...</td>\n",
       "      <td>42.0</td>\n",
       "      <td>32.0</td>\n",
       "      <td>06</td>\n",
       "      <td>1176107.0</td>\n",
       "      <td>1900380.0</td>\n",
       "      <td>2016</td>\n",
       "      <td>02/10/2018 03:50:01 PM</td>\n",
       "      <td>41.882005</td>\n",
       "      <td>-87.628793</td>\n",
       "      <td>(41.882004711, -87.628792836)</td>\n",
       "    </tr>\n",
       "    <tr>\n",
       "      <th>1031742</th>\n",
       "      <td>48856</td>\n",
       "      <td>10286160</td>\n",
       "      <td>HY473701</td>\n",
       "      <td>10/22/2015 08:00:00 AM</td>\n",
       "      <td>082XX S VERNON AVE</td>\n",
       "      <td>0820</td>\n",
       "      <td>THEFT</td>\n",
       "      <td>$500 AND UNDER</td>\n",
       "      <td>RESIDENCE PORCH/HALLWAY</td>\n",
       "      <td>False</td>\n",
       "      <td>...</td>\n",
       "      <td>6.0</td>\n",
       "      <td>44.0</td>\n",
       "      <td>06</td>\n",
       "      <td>1180680.0</td>\n",
       "      <td>1850414.0</td>\n",
       "      <td>2015</td>\n",
       "      <td>02/10/2018 03:50:01 PM</td>\n",
       "      <td>41.744790</td>\n",
       "      <td>-87.613538</td>\n",
       "      <td>(41.744789745, -87.613537842)</td>\n",
       "    </tr>\n",
       "    <tr>\n",
       "      <th>1031743</th>\n",
       "      <td>944217</td>\n",
       "      <td>11363904</td>\n",
       "      <td>JB328172</td>\n",
       "      <td>06/29/2018 04:44:00 PM</td>\n",
       "      <td>050XX W SUPERIOR ST</td>\n",
       "      <td>3710</td>\n",
       "      <td>INTERFERENCE WITH PUBLIC OFFICER</td>\n",
       "      <td>RESIST/OBSTRUCT/DISARM OFFICER</td>\n",
       "      <td>STREET</td>\n",
       "      <td>True</td>\n",
       "      <td>...</td>\n",
       "      <td>28.0</td>\n",
       "      <td>25.0</td>\n",
       "      <td>24</td>\n",
       "      <td>1142653.0</td>\n",
       "      <td>1904503.0</td>\n",
       "      <td>2018</td>\n",
       "      <td>07/06/2018 03:55:18 PM</td>\n",
       "      <td>41.894007</td>\n",
       "      <td>-87.751534</td>\n",
       "      <td>(41.894006661, -87.75153377)</td>\n",
       "    </tr>\n",
       "  </tbody>\n",
       "</table>\n",
       "<p>1031744 rows × 23 columns</p>\n",
       "</div>"
      ],
      "text/plain": [
       "         Unnamed: 0        ID Case Number                    Date  \\\n",
       "0            861410  11476552    JB475560  10/14/2018 06:51:00 PM   \n",
       "1            783641  10828749    JA130110  01/25/2017 11:00:00 PM   \n",
       "2            650716  11031423    JA363907  07/26/2017 12:30:00 AM   \n",
       "3            496462  10430338    HZ168230  02/26/2016 03:00:00 AM   \n",
       "4            946330  11361027    JB324433  06/26/2018 12:30:00 PM   \n",
       "...             ...       ...         ...                     ...   \n",
       "1031739      438936  10525983    HZ267425  05/16/2016 08:50:00 PM   \n",
       "1031740      324649  10708413    HZ465384  10/07/2016 06:00:00 PM   \n",
       "1031741      382880  10612722    HZ365526  07/26/2016 03:45:00 PM   \n",
       "1031742       48856  10286160    HY473701  10/22/2015 08:00:00 AM   \n",
       "1031743      944217  11363904    JB328172  06/29/2018 04:44:00 PM   \n",
       "\n",
       "                         Block  IUCR                      Primary Type  \\\n",
       "0            039XX W OGDEN AVE  0820                             THEFT   \n",
       "1          011XX S OAKLEY BLVD  031A                           ROBBERY   \n",
       "2             018XX N CLARK ST  0910               MOTOR VEHICLE THEFT   \n",
       "3         002XX W JACKSON BLVD  0860                             THEFT   \n",
       "4            0000X E MONROE ST  0890                             THEFT   \n",
       "...                        ...   ...                               ...   \n",
       "1031739        015XX E 53RD ST  0890                             THEFT   \n",
       "1031740  066XX W FULLERTON AVE  0870                             THEFT   \n",
       "1031741     0000X W MADISON ST  0820                             THEFT   \n",
       "1031742     082XX S VERNON AVE  0820                             THEFT   \n",
       "1031743    050XX W SUPERIOR ST  3710  INTERFERENCE WITH PUBLIC OFFICER   \n",
       "\n",
       "                            Description            Location Description  \\\n",
       "0                        $500 AND UNDER              SMALL RETAIL STORE   \n",
       "1                        ARMED: HANDGUN                          STREET   \n",
       "2                            AUTOMOBILE  PARKING LOT/GARAGE(NON.RESID.)   \n",
       "3                          RETAIL THEFT               CONVENIENCE STORE   \n",
       "4                         FROM BUILDING              SMALL RETAIL STORE   \n",
       "...                                 ...                             ...   \n",
       "1031739                   FROM BUILDING                           OTHER   \n",
       "1031740                  POCKET-PICKING              SMALL RETAIL STORE   \n",
       "1031741                  $500 AND UNDER                        SIDEWALK   \n",
       "1031742                  $500 AND UNDER         RESIDENCE PORCH/HALLWAY   \n",
       "1031743  RESIST/OBSTRUCT/DISARM OFFICER                          STREET   \n",
       "\n",
       "         Arrest  ...  Ward  Community Area  FBI Code  X Coordinate  \\\n",
       "0          True  ...  22.0            29.0        06     1150286.0   \n",
       "1         False  ...  25.0            28.0        03     1161221.0   \n",
       "2         False  ...  43.0             7.0        07     1174558.0   \n",
       "3         False  ...   2.0            32.0        06     1174641.0   \n",
       "4         False  ...  42.0            32.0        06     1176686.0   \n",
       "...         ...  ...   ...             ...       ...           ...   \n",
       "1031739   False  ...   4.0            41.0        06     1187505.0   \n",
       "1031740   False  ...  36.0            19.0        06           NaN   \n",
       "1031741   False  ...  42.0            32.0        06     1176107.0   \n",
       "1031742   False  ...   6.0            44.0        06     1180680.0   \n",
       "1031743    True  ...  28.0            25.0        24     1142653.0   \n",
       "\n",
       "         Y Coordinate  Year              Updated On   Latitude  Longitude  \\\n",
       "0           1889027.0  2018  10/21/2018 04:09:44 PM  41.851393 -87.723904   \n",
       "1           1894904.0  2017  02/14/2017 03:49:42 PM  41.867300 -87.683606   \n",
       "2           1912475.0  2017  02/10/2018 03:50:01 PM  41.915229 -87.634119   \n",
       "3           1898950.0  2016  02/10/2018 03:50:01 PM  41.878114 -87.634219   \n",
       "4           1899939.0  2018  07/03/2018 03:55:36 PM  41.880782 -87.626680   \n",
       "...               ...   ...                     ...        ...        ...   \n",
       "1031739     1870429.0  2016  02/10/2018 03:50:01 PM  41.799553 -87.587895   \n",
       "1031740           NaN  2016  10/14/2016 04:07:57 PM        NaN        NaN   \n",
       "1031741     1900380.0  2016  02/10/2018 03:50:01 PM  41.882005 -87.628793   \n",
       "1031742     1850414.0  2015  02/10/2018 03:50:01 PM  41.744790 -87.613538   \n",
       "1031743     1904503.0  2018  07/06/2018 03:55:18 PM  41.894007 -87.751534   \n",
       "\n",
       "                              Location  \n",
       "0        (41.851393305, -87.723903515)  \n",
       "1        (41.867300404, -87.683606131)  \n",
       "2        (41.915228778, -87.634118723)  \n",
       "3        (41.878113603, -87.634218691)  \n",
       "4        (41.880781519, -87.626680112)  \n",
       "...                                ...  \n",
       "1031739  (41.799553224, -87.587894753)  \n",
       "1031740                            NaN  \n",
       "1031741  (41.882004711, -87.628792836)  \n",
       "1031742  (41.744789745, -87.613537842)  \n",
       "1031743   (41.894006661, -87.75153377)  \n",
       "\n",
       "[1031744 rows x 23 columns]"
      ]
     },
     "execution_count": 3,
     "metadata": {},
     "output_type": "execute_result"
    }
   ],
   "source": [
    "df"
   ]
  },
  {
   "cell_type": "markdown",
   "metadata": {},
   "source": [
    "Let's take look at the data type."
   ]
  },
  {
   "cell_type": "code",
   "execution_count": 4,
   "metadata": {},
   "outputs": [
    {
     "name": "stdout",
     "output_type": "stream",
     "text": [
      "<class 'pandas.core.frame.DataFrame'>\n",
      "RangeIndex: 1031744 entries, 0 to 1031743\n",
      "Data columns (total 23 columns):\n",
      " #   Column                Non-Null Count    Dtype  \n",
      "---  ------                --------------    -----  \n",
      " 0   Unnamed: 0            1031744 non-null  int64  \n",
      " 1   ID                    1031744 non-null  int64  \n",
      " 2   Case Number           1031744 non-null  object \n",
      " 3   Date                  1031744 non-null  object \n",
      " 4   Block                 1031744 non-null  object \n",
      " 5   IUCR                  1031744 non-null  object \n",
      " 6   Primary Type          1031744 non-null  object \n",
      " 7   Description           1031744 non-null  object \n",
      " 8   Location Description  1028467 non-null  object \n",
      " 9   Arrest                1031744 non-null  bool   \n",
      " 10  Domestic              1031744 non-null  bool   \n",
      " 11  Beat                  1031744 non-null  int64  \n",
      " 12  District              1031743 non-null  float64\n",
      " 13  Ward                  1031735 non-null  float64\n",
      " 14  Community Area        1031742 non-null  float64\n",
      " 15  FBI Code              1031744 non-null  object \n",
      " 16  X Coordinate          1019109 non-null  float64\n",
      " 17  Y Coordinate          1019109 non-null  float64\n",
      " 18  Year                  1031744 non-null  int64  \n",
      " 19  Updated On            1031744 non-null  object \n",
      " 20  Latitude              1019109 non-null  float64\n",
      " 21  Longitude             1019109 non-null  float64\n",
      " 22  Location              1019109 non-null  object \n",
      "dtypes: bool(2), float64(7), int64(4), object(10)\n",
      "memory usage: 167.3+ MB\n"
     ]
    }
   ],
   "source": [
    "df.info()"
   ]
  },
  {
   "cell_type": "markdown",
   "metadata": {},
   "source": [
    "Let's see all the different type of crimes"
   ]
  },
  {
   "cell_type": "code",
   "execution_count": 5,
   "metadata": {},
   "outputs": [
    {
     "data": {
      "text/plain": [
       "33"
      ]
     },
     "execution_count": 5,
     "metadata": {},
     "output_type": "execute_result"
    }
   ],
   "source": [
    "df_crime=df['Primary Type'].nunique()\n",
    "df_crime"
   ]
  },
  {
   "cell_type": "code",
   "execution_count": 6,
   "metadata": {},
   "outputs": [
    {
     "data": {
      "text/plain": [
       "Text(0.5, 0, 'Number of Crimes')"
      ]
     },
     "execution_count": 6,
     "metadata": {},
     "output_type": "execute_result"
    },
    {
     "data": {
      "image/png": "[encoded data removed]",
      "text/plain": [
       "<Figure size 1080x720 with 1 Axes>"
      ]
     },
     "metadata": {
      "needs_background": "light"
     },
     "output_type": "display_data"
    }
   ],
   "source": [
    "order_data = df['Primary Type'].value_counts().index\n",
    "plt.figure(figsize=(15,10))\n",
    "sns.countplot(y='Primary Type', data=df, order = order_data)\n",
    "plt.title('Number of Crimes')\n",
    "plt.ylabel('Crime Type')\n",
    "plt.xlabel('Number of Crimes')"
   ]
  },
  {
   "cell_type": "code",
   "execution_count": 7,
   "metadata": {},
   "outputs": [
    {
     "data": {
      "text/plain": [
       "153"
      ]
     },
     "execution_count": 7,
     "metadata": {},
     "output_type": "execute_result"
    }
   ],
   "source": [
    "df_location=df['Location Description'].nunique()\n",
    "df_location"
   ]
  },
  {
   "cell_type": "markdown",
   "metadata": {},
   "source": [
    "Since we have over 150 different location in the dataset, we are only going to check the top 15 locations."
   ]
  },
  {
   "cell_type": "code",
   "execution_count": 8,
   "metadata": {},
   "outputs": [
    {
     "data": {
      "text/plain": [
       "Text(0.5, 0, 'Number of Crimes')"
      ]
     },
     "execution_count": 8,
     "metadata": {},
     "output_type": "execute_result"
    },
    {
     "data": {
      "image/png": "[encoded data removed]",
      "text/plain": [
       "<Figure size 1080x720 with 1 Axes>"
      ]
     },
     "metadata": {
      "needs_background": "light"
     },
     "output_type": "display_data"
    }
   ],
   "source": [
    "plt.figure(figsize = (15, 10))\n",
    "sns.countplot(y= 'Location Description', data = df, order = df['Location Description'].value_counts().iloc[:15].index)\n",
    "plt.title('Place of Crimes')\n",
    "plt.ylabel('Location Description')\n",
    "plt.xlabel('Number of Crimes')"
   ]
  },
  {
   "cell_type": "markdown",
   "metadata": {},
   "source": [
    "Convert dates to pandas datetime format"
   ]
  },
  {
   "cell_type": "code",
   "execution_count": 9,
   "metadata": {},
   "outputs": [
    {
     "data": {
      "text/plain": [
       "Date\n",
       "2018-10-14 18:51:00   2018-10-14 18:51:00\n",
       "2017-01-25 23:00:00   2017-01-25 23:00:00\n",
       "2017-07-26 00:30:00   2017-07-26 00:30:00\n",
       "2016-02-26 03:00:00   2016-02-26 03:00:00\n",
       "2018-06-26 12:30:00   2018-06-26 12:30:00\n",
       "                              ...        \n",
       "2016-05-16 20:50:00   2016-05-16 20:50:00\n",
       "2016-10-07 18:00:00   2016-10-07 18:00:00\n",
       "2016-07-26 15:45:00   2016-07-26 15:45:00\n",
       "2015-10-22 08:00:00   2015-10-22 08:00:00\n",
       "2018-06-29 16:44:00   2018-06-29 16:44:00\n",
       "Name: Date, Length: 1031744, dtype: datetime64[ns]"
      ]
     },
     "execution_count": 9,
     "metadata": {},
     "output_type": "execute_result"
    }
   ],
   "source": [
    "import datetime\n",
    "\n",
    "df['Date']=pd.to_datetime(df['Date'])\n",
    "df.index= pd.DatetimeIndex(df.Date)\n",
    "df.index = pd.to_datetime(df.index)\n",
    "df.Date"
   ]
  },
  {
   "cell_type": "code",
   "execution_count": 10,
   "metadata": {},
   "outputs": [
    {
     "data": {
      "image/png": "[encoded data removed]",
      "text/plain": [
       "<Figure size 720x360 with 1 Axes>"
      ]
     },
     "metadata": {
      "needs_background": "light"
     },
     "output_type": "display_data"
    }
   ],
   "source": [
    "plt.figure(figsize = (10,5))\n",
    "df.groupby([df.index.month]).size().plot.bar()\n",
    "plt.title('Crime Per Month')\n",
    "plt.xlabel('Month')\n",
    "plt.ylabel('Number of Crimes ')\n",
    "plt.show()"
   ]
  },
  {
   "cell_type": "code",
   "execution_count": 11,
   "metadata": {},
   "outputs": [
    {
     "data": {
      "image/png": "[encoded data removed]",
      "text/plain": [
       "<Figure size 720x360 with 1 Axes>"
      ]
     },
     "metadata": {
      "needs_background": "light"
     },
     "output_type": "display_data"
    }
   ],
   "source": [
    "plt.figure(figsize = (10,5))\n",
    "df.groupby([df.index.day]).size().plot.bar()\n",
    "plt.title('Crime Per Day')\n",
    "plt.xlabel('Day')\n",
    "plt.ylabel('Number of Crimes')\n",
    "plt.show()"
   ]
  },
  {
   "cell_type": "code",
   "execution_count": 12,
   "metadata": {},
   "outputs": [
    {
     "data": {
      "image/png": "[encoded data removed]",
      "text/plain": [
       "<Figure size 720x360 with 1 Axes>"
      ]
     },
     "metadata": {
      "needs_background": "light"
     },
     "output_type": "display_data"
    }
   ],
   "source": [
    "plt.figure(figsize = (10,5))\n",
    "df.groupby([df.index.hour]).size().plot.bar()\n",
    "plt.title('Crime Per Hour')\n",
    "plt.xlabel('Hour')\n",
    "plt.ylabel('Number of Crimes')\n",
    "plt.show()"
   ]
  },
  {
   "cell_type": "markdown",
   "metadata": {},
   "source": [
    "Let's look at the correlation between each variables."
   ]
  },
  {
   "cell_type": "code",
   "execution_count": 13,
   "metadata": {},
   "outputs": [
    {
     "data": {
      "text/plain": [
       "Text(0.5, 1.0, 'Correlation Matrix')"
      ]
     },
     "execution_count": 13,
     "metadata": {},
     "output_type": "execute_result"
    },
    {
     "data": {
      "image/png": "[encoded data removed]",
      "text/plain": [
       "<Figure size 1008x720 with 2 Axes>"
      ]
     },
     "metadata": {
      "needs_background": "light"
     },
     "output_type": "display_data"
    }
   ],
   "source": [
    "plt.figure(figsize=(14, 10))\n",
    "sns.heatmap(df.corr(), cmap=\"Blues\")\n",
    "plt.title('Correlation Matrix')"
   ]
  },
  {
   "cell_type": "markdown",
   "metadata": {},
   "source": [
    "Let's check if there is any null values."
   ]
  },
  {
   "cell_type": "code",
   "execution_count": 14,
   "metadata": {},
   "outputs": [
    {
     "data": {
      "text/plain": [
       "Unnamed: 0                  0\n",
       "ID                          0\n",
       "Case Number                 0\n",
       "Date                        0\n",
       "Block                       0\n",
       "IUCR                        0\n",
       "Primary Type                0\n",
       "Description                 0\n",
       "Location Description     3277\n",
       "Arrest                      0\n",
       "Domestic                    0\n",
       "Beat                        0\n",
       "District                    1\n",
       "Ward                        9\n",
       "Community Area              2\n",
       "FBI Code                    0\n",
       "X Coordinate            12635\n",
       "Y Coordinate            12635\n",
       "Year                        0\n",
       "Updated On                  0\n",
       "Latitude                12635\n",
       "Longitude               12635\n",
       "Location                12635\n",
       "dtype: int64"
      ]
     },
     "execution_count": 14,
     "metadata": {},
     "output_type": "execute_result"
    }
   ],
   "source": [
    "df.isna().sum()"
   ]
  },
  {
   "cell_type": "markdown",
   "metadata": {},
   "source": [
    "## 3. Data Preparation (30 pts.)"
   ]
  },
  {
   "cell_type": "markdown",
   "metadata": {},
   "source": [
    "Adding 'Month', 'Day', and 'Hour' Columns into the Dataset"
   ]
  },
  {
   "cell_type": "code",
   "execution_count": 15,
   "metadata": {},
   "outputs": [
    {
     "data": {
      "text/html": [
       "<div>\n",
       "<style scoped>\n",
       "    .dataframe tbody tr th:only-of-type {\n",
       "        vertical-align: middle;\n",
       "    }\n",
       "\n",
       "    .dataframe tbody tr th {\n",
       "        vertical-align: top;\n",
       "    }\n",
       "\n",
       "    .dataframe thead th {\n",
       "        text-align: right;\n",
       "    }\n",
       "</style>\n",
       "<table border=\"1\" class=\"dataframe\">\n",
       "  <thead>\n",
       "    <tr style=\"text-align: right;\">\n",
       "      <th></th>\n",
       "      <th>Unnamed: 0</th>\n",
       "      <th>ID</th>\n",
       "      <th>Case Number</th>\n",
       "      <th>Date</th>\n",
       "      <th>Block</th>\n",
       "      <th>IUCR</th>\n",
       "      <th>Primary Type</th>\n",
       "      <th>Description</th>\n",
       "      <th>Location Description</th>\n",
       "      <th>Arrest</th>\n",
       "      <th>...</th>\n",
       "      <th>X Coordinate</th>\n",
       "      <th>Y Coordinate</th>\n",
       "      <th>Year</th>\n",
       "      <th>Updated On</th>\n",
       "      <th>Latitude</th>\n",
       "      <th>Longitude</th>\n",
       "      <th>Location</th>\n",
       "      <th>Month</th>\n",
       "      <th>Day</th>\n",
       "      <th>Hour</th>\n",
       "    </tr>\n",
       "    <tr>\n",
       "      <th>Date</th>\n",
       "      <th></th>\n",
       "      <th></th>\n",
       "      <th></th>\n",
       "      <th></th>\n",
       "      <th></th>\n",
       "      <th></th>\n",
       "      <th></th>\n",
       "      <th></th>\n",
       "      <th></th>\n",
       "      <th></th>\n",
       "      <th></th>\n",
       "      <th></th>\n",
       "      <th></th>\n",
       "      <th></th>\n",
       "      <th></th>\n",
       "      <th></th>\n",
       "      <th></th>\n",
       "      <th></th>\n",
       "      <th></th>\n",
       "      <th></th>\n",
       "      <th></th>\n",
       "    </tr>\n",
       "  </thead>\n",
       "  <tbody>\n",
       "    <tr>\n",
       "      <th>2018-10-14 18:51:00</th>\n",
       "      <td>861410</td>\n",
       "      <td>11476552</td>\n",
       "      <td>JB475560</td>\n",
       "      <td>2018-10-14 18:51:00</td>\n",
       "      <td>039XX W OGDEN AVE</td>\n",
       "      <td>0820</td>\n",
       "      <td>THEFT</td>\n",
       "      <td>$500 AND UNDER</td>\n",
       "      <td>SMALL RETAIL STORE</td>\n",
       "      <td>True</td>\n",
       "      <td>...</td>\n",
       "      <td>1150286.0</td>\n",
       "      <td>1889027.0</td>\n",
       "      <td>2018</td>\n",
       "      <td>10/21/2018 04:09:44 PM</td>\n",
       "      <td>41.851393</td>\n",
       "      <td>-87.723904</td>\n",
       "      <td>(41.851393305, -87.723903515)</td>\n",
       "      <td>10</td>\n",
       "      <td>14</td>\n",
       "      <td>18</td>\n",
       "    </tr>\n",
       "    <tr>\n",
       "      <th>2017-01-25 23:00:00</th>\n",
       "      <td>783641</td>\n",
       "      <td>10828749</td>\n",
       "      <td>JA130110</td>\n",
       "      <td>2017-01-25 23:00:00</td>\n",
       "      <td>011XX S OAKLEY BLVD</td>\n",
       "      <td>031A</td>\n",
       "      <td>ROBBERY</td>\n",
       "      <td>ARMED: HANDGUN</td>\n",
       "      <td>STREET</td>\n",
       "      <td>False</td>\n",
       "      <td>...</td>\n",
       "      <td>1161221.0</td>\n",
       "      <td>1894904.0</td>\n",
       "      <td>2017</td>\n",
       "      <td>02/14/2017 03:49:42 PM</td>\n",
       "      <td>41.867300</td>\n",
       "      <td>-87.683606</td>\n",
       "      <td>(41.867300404, -87.683606131)</td>\n",
       "      <td>1</td>\n",
       "      <td>25</td>\n",
       "      <td>23</td>\n",
       "    </tr>\n",
       "    <tr>\n",
       "      <th>2017-07-26 00:30:00</th>\n",
       "      <td>650716</td>\n",
       "      <td>11031423</td>\n",
       "      <td>JA363907</td>\n",
       "      <td>2017-07-26 00:30:00</td>\n",
       "      <td>018XX N CLARK ST</td>\n",
       "      <td>0910</td>\n",
       "      <td>MOTOR VEHICLE THEFT</td>\n",
       "      <td>AUTOMOBILE</td>\n",
       "      <td>PARKING LOT/GARAGE(NON.RESID.)</td>\n",
       "      <td>False</td>\n",
       "      <td>...</td>\n",
       "      <td>1174558.0</td>\n",
       "      <td>1912475.0</td>\n",
       "      <td>2017</td>\n",
       "      <td>02/10/2018 03:50:01 PM</td>\n",
       "      <td>41.915229</td>\n",
       "      <td>-87.634119</td>\n",
       "      <td>(41.915228778, -87.634118723)</td>\n",
       "      <td>7</td>\n",
       "      <td>26</td>\n",
       "      <td>0</td>\n",
       "    </tr>\n",
       "    <tr>\n",
       "      <th>2016-02-26 03:00:00</th>\n",
       "      <td>496462</td>\n",
       "      <td>10430338</td>\n",
       "      <td>HZ168230</td>\n",
       "      <td>2016-02-26 03:00:00</td>\n",
       "      <td>002XX W JACKSON BLVD</td>\n",
       "      <td>0860</td>\n",
       "      <td>THEFT</td>\n",
       "      <td>RETAIL THEFT</td>\n",
       "      <td>CONVENIENCE STORE</td>\n",
       "      <td>False</td>\n",
       "      <td>...</td>\n",
       "      <td>1174641.0</td>\n",
       "      <td>1898950.0</td>\n",
       "      <td>2016</td>\n",
       "      <td>02/10/2018 03:50:01 PM</td>\n",
       "      <td>41.878114</td>\n",
       "      <td>-87.634219</td>\n",
       "      <td>(41.878113603, -87.634218691)</td>\n",
       "      <td>2</td>\n",
       "      <td>26</td>\n",
       "      <td>3</td>\n",
       "    </tr>\n",
       "    <tr>\n",
       "      <th>2018-06-26 12:30:00</th>\n",
       "      <td>946330</td>\n",
       "      <td>11361027</td>\n",
       "      <td>JB324433</td>\n",
       "      <td>2018-06-26 12:30:00</td>\n",
       "      <td>0000X E MONROE ST</td>\n",
       "      <td>0890</td>\n",
       "      <td>THEFT</td>\n",
       "      <td>FROM BUILDING</td>\n",
       "      <td>SMALL RETAIL STORE</td>\n",
       "      <td>False</td>\n",
       "      <td>...</td>\n",
       "      <td>1176686.0</td>\n",
       "      <td>1899939.0</td>\n",
       "      <td>2018</td>\n",
       "      <td>07/03/2018 03:55:36 PM</td>\n",
       "      <td>41.880782</td>\n",
       "      <td>-87.626680</td>\n",
       "      <td>(41.880781519, -87.626680112)</td>\n",
       "      <td>6</td>\n",
       "      <td>26</td>\n",
       "      <td>12</td>\n",
       "    </tr>\n",
       "  </tbody>\n",
       "</table>\n",
       "<p>5 rows × 26 columns</p>\n",
       "</div>"
      ],
      "text/plain": [
       "                     Unnamed: 0        ID Case Number                Date  \\\n",
       "Date                                                                        \n",
       "2018-10-14 18:51:00      861410  11476552    JB475560 2018-10-14 18:51:00   \n",
       "2017-01-25 23:00:00      783641  10828749    JA130110 2017-01-25 23:00:00   \n",
       "2017-07-26 00:30:00      650716  11031423    JA363907 2017-07-26 00:30:00   \n",
       "2016-02-26 03:00:00      496462  10430338    HZ168230 2016-02-26 03:00:00   \n",
       "2018-06-26 12:30:00      946330  11361027    JB324433 2018-06-26 12:30:00   \n",
       "\n",
       "                                    Block  IUCR         Primary Type  \\\n",
       "Date                                                                   \n",
       "2018-10-14 18:51:00     039XX W OGDEN AVE  0820                THEFT   \n",
       "2017-01-25 23:00:00   011XX S OAKLEY BLVD  031A              ROBBERY   \n",
       "2017-07-26 00:30:00      018XX N CLARK ST  0910  MOTOR VEHICLE THEFT   \n",
       "2016-02-26 03:00:00  002XX W JACKSON BLVD  0860                THEFT   \n",
       "2018-06-26 12:30:00     0000X E MONROE ST  0890                THEFT   \n",
       "\n",
       "                        Description            Location Description  Arrest  \\\n",
       "Date                                                                          \n",
       "2018-10-14 18:51:00  $500 AND UNDER              SMALL RETAIL STORE    True   \n",
       "2017-01-25 23:00:00  ARMED: HANDGUN                          STREET   False   \n",
       "2017-07-26 00:30:00      AUTOMOBILE  PARKING LOT/GARAGE(NON.RESID.)   False   \n",
       "2016-02-26 03:00:00    RETAIL THEFT               CONVENIENCE STORE   False   \n",
       "2018-06-26 12:30:00   FROM BUILDING              SMALL RETAIL STORE   False   \n",
       "\n",
       "                     ...  X Coordinate  Y Coordinate  Year  \\\n",
       "Date                 ...                                     \n",
       "2018-10-14 18:51:00  ...     1150286.0     1889027.0  2018   \n",
       "2017-01-25 23:00:00  ...     1161221.0     1894904.0  2017   \n",
       "2017-07-26 00:30:00  ...     1174558.0     1912475.0  2017   \n",
       "2016-02-26 03:00:00  ...     1174641.0     1898950.0  2016   \n",
       "2018-06-26 12:30:00  ...     1176686.0     1899939.0  2018   \n",
       "\n",
       "                                 Updated On   Latitude  Longitude  \\\n",
       "Date                                                                \n",
       "2018-10-14 18:51:00  10/21/2018 04:09:44 PM  41.851393 -87.723904   \n",
       "2017-01-25 23:00:00  02/14/2017 03:49:42 PM  41.867300 -87.683606   \n",
       "2017-07-26 00:30:00  02/10/2018 03:50:01 PM  41.915229 -87.634119   \n",
       "2016-02-26 03:00:00  02/10/2018 03:50:01 PM  41.878114 -87.634219   \n",
       "2018-06-26 12:30:00  07/03/2018 03:55:36 PM  41.880782 -87.626680   \n",
       "\n",
       "                                          Location  Month  Day Hour  \n",
       "Date                                                                 \n",
       "2018-10-14 18:51:00  (41.851393305, -87.723903515)     10   14   18  \n",
       "2017-01-25 23:00:00  (41.867300404, -87.683606131)      1   25   23  \n",
       "2017-07-26 00:30:00  (41.915228778, -87.634118723)      7   26    0  \n",
       "2016-02-26 03:00:00  (41.878113603, -87.634218691)      2   26    3  \n",
       "2018-06-26 12:30:00  (41.880781519, -87.626680112)      6   26   12  \n",
       "\n",
       "[5 rows x 26 columns]"
      ]
     },
     "execution_count": 15,
     "metadata": {},
     "output_type": "execute_result"
    }
   ],
   "source": [
    "df['Month']=(df['Date'].dt.month)\n",
    "df['Day']=(df['Date'].dt.day)\n",
    "df['Hour']=(df['Date'].dt.hour)\n",
    "df.head()"
   ]
  },
  {
   "cell_type": "markdown",
   "metadata": {},
   "source": [
    "Let's make a brand new table consisting of \"Primary Type\",\"District\", \"Date\", \"Month\", \"Day\", and \"Hour\"."
   ]
  },
  {
   "cell_type": "code",
   "execution_count": 16,
   "metadata": {},
   "outputs": [
    {
     "data": {
      "text/html": [
       "<div>\n",
       "<style scoped>\n",
       "    .dataframe tbody tr th:only-of-type {\n",
       "        vertical-align: middle;\n",
       "    }\n",
       "\n",
       "    .dataframe tbody tr th {\n",
       "        vertical-align: top;\n",
       "    }\n",
       "\n",
       "    .dataframe thead th {\n",
       "        text-align: right;\n",
       "    }\n",
       "</style>\n",
       "<table border=\"1\" class=\"dataframe\">\n",
       "  <thead>\n",
       "    <tr style=\"text-align: right;\">\n",
       "      <th></th>\n",
       "      <th>Primary Type</th>\n",
       "      <th>District</th>\n",
       "      <th>Date</th>\n",
       "      <th>Month</th>\n",
       "      <th>Day</th>\n",
       "      <th>Hour</th>\n",
       "    </tr>\n",
       "    <tr>\n",
       "      <th>Date</th>\n",
       "      <th></th>\n",
       "      <th></th>\n",
       "      <th></th>\n",
       "      <th></th>\n",
       "      <th></th>\n",
       "      <th></th>\n",
       "    </tr>\n",
       "  </thead>\n",
       "  <tbody>\n",
       "    <tr>\n",
       "      <th>2018-10-14 18:51:00</th>\n",
       "      <td>THEFT</td>\n",
       "      <td>10.0</td>\n",
       "      <td>2018-10-14 18:51:00</td>\n",
       "      <td>10</td>\n",
       "      <td>14</td>\n",
       "      <td>18</td>\n",
       "    </tr>\n",
       "    <tr>\n",
       "      <th>2017-01-25 23:00:00</th>\n",
       "      <td>ROBBERY</td>\n",
       "      <td>12.0</td>\n",
       "      <td>2017-01-25 23:00:00</td>\n",
       "      <td>1</td>\n",
       "      <td>25</td>\n",
       "      <td>23</td>\n",
       "    </tr>\n",
       "    <tr>\n",
       "      <th>2017-07-26 00:30:00</th>\n",
       "      <td>MOTOR VEHICLE THEFT</td>\n",
       "      <td>18.0</td>\n",
       "      <td>2017-07-26 00:30:00</td>\n",
       "      <td>7</td>\n",
       "      <td>26</td>\n",
       "      <td>0</td>\n",
       "    </tr>\n",
       "    <tr>\n",
       "      <th>2016-02-26 03:00:00</th>\n",
       "      <td>THEFT</td>\n",
       "      <td>1.0</td>\n",
       "      <td>2016-02-26 03:00:00</td>\n",
       "      <td>2</td>\n",
       "      <td>26</td>\n",
       "      <td>3</td>\n",
       "    </tr>\n",
       "    <tr>\n",
       "      <th>2018-06-26 12:30:00</th>\n",
       "      <td>THEFT</td>\n",
       "      <td>1.0</td>\n",
       "      <td>2018-06-26 12:30:00</td>\n",
       "      <td>6</td>\n",
       "      <td>26</td>\n",
       "      <td>12</td>\n",
       "    </tr>\n",
       "    <tr>\n",
       "      <th>...</th>\n",
       "      <td>...</td>\n",
       "      <td>...</td>\n",
       "      <td>...</td>\n",
       "      <td>...</td>\n",
       "      <td>...</td>\n",
       "      <td>...</td>\n",
       "    </tr>\n",
       "    <tr>\n",
       "      <th>2016-05-16 20:50:00</th>\n",
       "      <td>THEFT</td>\n",
       "      <td>2.0</td>\n",
       "      <td>2016-05-16 20:50:00</td>\n",
       "      <td>5</td>\n",
       "      <td>16</td>\n",
       "      <td>20</td>\n",
       "    </tr>\n",
       "    <tr>\n",
       "      <th>2016-10-07 18:00:00</th>\n",
       "      <td>THEFT</td>\n",
       "      <td>25.0</td>\n",
       "      <td>2016-10-07 18:00:00</td>\n",
       "      <td>10</td>\n",
       "      <td>7</td>\n",
       "      <td>18</td>\n",
       "    </tr>\n",
       "    <tr>\n",
       "      <th>2016-07-26 15:45:00</th>\n",
       "      <td>THEFT</td>\n",
       "      <td>1.0</td>\n",
       "      <td>2016-07-26 15:45:00</td>\n",
       "      <td>7</td>\n",
       "      <td>26</td>\n",
       "      <td>15</td>\n",
       "    </tr>\n",
       "    <tr>\n",
       "      <th>2015-10-22 08:00:00</th>\n",
       "      <td>THEFT</td>\n",
       "      <td>6.0</td>\n",
       "      <td>2015-10-22 08:00:00</td>\n",
       "      <td>10</td>\n",
       "      <td>22</td>\n",
       "      <td>8</td>\n",
       "    </tr>\n",
       "    <tr>\n",
       "      <th>2018-06-29 16:44:00</th>\n",
       "      <td>INTERFERENCE WITH PUBLIC OFFICER</td>\n",
       "      <td>15.0</td>\n",
       "      <td>2018-06-29 16:44:00</td>\n",
       "      <td>6</td>\n",
       "      <td>29</td>\n",
       "      <td>16</td>\n",
       "    </tr>\n",
       "  </tbody>\n",
       "</table>\n",
       "<p>1031744 rows × 6 columns</p>\n",
       "</div>"
      ],
      "text/plain": [
       "                                         Primary Type  District  \\\n",
       "Date                                                              \n",
       "2018-10-14 18:51:00                             THEFT      10.0   \n",
       "2017-01-25 23:00:00                           ROBBERY      12.0   \n",
       "2017-07-26 00:30:00               MOTOR VEHICLE THEFT      18.0   \n",
       "2016-02-26 03:00:00                             THEFT       1.0   \n",
       "2018-06-26 12:30:00                             THEFT       1.0   \n",
       "...                                               ...       ...   \n",
       "2016-05-16 20:50:00                             THEFT       2.0   \n",
       "2016-10-07 18:00:00                             THEFT      25.0   \n",
       "2016-07-26 15:45:00                             THEFT       1.0   \n",
       "2015-10-22 08:00:00                             THEFT       6.0   \n",
       "2018-06-29 16:44:00  INTERFERENCE WITH PUBLIC OFFICER      15.0   \n",
       "\n",
       "                                   Date  Month  Day  Hour  \n",
       "Date                                                       \n",
       "2018-10-14 18:51:00 2018-10-14 18:51:00     10   14    18  \n",
       "2017-01-25 23:00:00 2017-01-25 23:00:00      1   25    23  \n",
       "2017-07-26 00:30:00 2017-07-26 00:30:00      7   26     0  \n",
       "2016-02-26 03:00:00 2016-02-26 03:00:00      2   26     3  \n",
       "2018-06-26 12:30:00 2018-06-26 12:30:00      6   26    12  \n",
       "...                                 ...    ...  ...   ...  \n",
       "2016-05-16 20:50:00 2016-05-16 20:50:00      5   16    20  \n",
       "2016-10-07 18:00:00 2016-10-07 18:00:00     10    7    18  \n",
       "2016-07-26 15:45:00 2016-07-26 15:45:00      7   26    15  \n",
       "2015-10-22 08:00:00 2015-10-22 08:00:00     10   22     8  \n",
       "2018-06-29 16:44:00 2018-06-29 16:44:00      6   29    16  \n",
       "\n",
       "[1031744 rows x 6 columns]"
      ]
     },
     "execution_count": 16,
     "metadata": {},
     "output_type": "execute_result"
    }
   ],
   "source": [
    "df_crimes = df[[\"Primary Type\",\"District\", \"Date\", \"Month\", \"Day\", \"Hour\"]].copy()\n",
    "df_crimes"
   ]
  },
  {
   "cell_type": "markdown",
   "metadata": {},
   "source": [
    "Let's simpilify the table above"
   ]
  },
  {
   "cell_type": "code",
   "execution_count": 17,
   "metadata": {},
   "outputs": [
    {
     "data": {
      "text/html": [
       "<div>\n",
       "<style scoped>\n",
       "    .dataframe tbody tr th:only-of-type {\n",
       "        vertical-align: middle;\n",
       "    }\n",
       "\n",
       "    .dataframe tbody tr th {\n",
       "        vertical-align: top;\n",
       "    }\n",
       "\n",
       "    .dataframe thead th {\n",
       "        text-align: right;\n",
       "    }\n",
       "</style>\n",
       "<table border=\"1\" class=\"dataframe\">\n",
       "  <thead>\n",
       "    <tr style=\"text-align: right;\">\n",
       "      <th></th>\n",
       "      <th>District</th>\n",
       "      <th>Month</th>\n",
       "      <th>Day</th>\n",
       "      <th>Hour</th>\n",
       "      <th>CrimeCounts</th>\n",
       "    </tr>\n",
       "  </thead>\n",
       "  <tbody>\n",
       "    <tr>\n",
       "      <th>0</th>\n",
       "      <td>1.0</td>\n",
       "      <td>1</td>\n",
       "      <td>1</td>\n",
       "      <td>0</td>\n",
       "      <td>24</td>\n",
       "    </tr>\n",
       "    <tr>\n",
       "      <th>1</th>\n",
       "      <td>1.0</td>\n",
       "      <td>1</td>\n",
       "      <td>1</td>\n",
       "      <td>1</td>\n",
       "      <td>12</td>\n",
       "    </tr>\n",
       "    <tr>\n",
       "      <th>2</th>\n",
       "      <td>1.0</td>\n",
       "      <td>1</td>\n",
       "      <td>1</td>\n",
       "      <td>2</td>\n",
       "      <td>11</td>\n",
       "    </tr>\n",
       "    <tr>\n",
       "      <th>3</th>\n",
       "      <td>1.0</td>\n",
       "      <td>1</td>\n",
       "      <td>1</td>\n",
       "      <td>3</td>\n",
       "      <td>9</td>\n",
       "    </tr>\n",
       "    <tr>\n",
       "      <th>4</th>\n",
       "      <td>1.0</td>\n",
       "      <td>1</td>\n",
       "      <td>1</td>\n",
       "      <td>4</td>\n",
       "      <td>5</td>\n",
       "    </tr>\n",
       "    <tr>\n",
       "      <th>5</th>\n",
       "      <td>1.0</td>\n",
       "      <td>1</td>\n",
       "      <td>1</td>\n",
       "      <td>5</td>\n",
       "      <td>4</td>\n",
       "    </tr>\n",
       "    <tr>\n",
       "      <th>6</th>\n",
       "      <td>1.0</td>\n",
       "      <td>1</td>\n",
       "      <td>1</td>\n",
       "      <td>6</td>\n",
       "      <td>2</td>\n",
       "    </tr>\n",
       "    <tr>\n",
       "      <th>7</th>\n",
       "      <td>1.0</td>\n",
       "      <td>1</td>\n",
       "      <td>1</td>\n",
       "      <td>7</td>\n",
       "      <td>1</td>\n",
       "    </tr>\n",
       "    <tr>\n",
       "      <th>8</th>\n",
       "      <td>1.0</td>\n",
       "      <td>1</td>\n",
       "      <td>1</td>\n",
       "      <td>8</td>\n",
       "      <td>8</td>\n",
       "    </tr>\n",
       "    <tr>\n",
       "      <th>9</th>\n",
       "      <td>1.0</td>\n",
       "      <td>1</td>\n",
       "      <td>1</td>\n",
       "      <td>9</td>\n",
       "      <td>9</td>\n",
       "    </tr>\n",
       "  </tbody>\n",
       "</table>\n",
       "</div>"
      ],
      "text/plain": [
       "   District  Month  Day  Hour  CrimeCounts\n",
       "0       1.0      1    1     0           24\n",
       "1       1.0      1    1     1           12\n",
       "2       1.0      1    1     2           11\n",
       "3       1.0      1    1     3            9\n",
       "4       1.0      1    1     4            5\n",
       "5       1.0      1    1     5            4\n",
       "6       1.0      1    1     6            2\n",
       "7       1.0      1    1     7            1\n",
       "8       1.0      1    1     8            8\n",
       "9       1.0      1    1     9            9"
      ]
     },
     "execution_count": 17,
     "metadata": {},
     "output_type": "execute_result"
    }
   ],
   "source": [
    "crimes = pd.pivot_table(df_crimes[[\"District\", \"Month\", \"Day\", \"Hour\", \"Date\"]], index=df_crimes[[\"District\", \"Month\", \"Day\", \"Hour\"]], aggfunc=\"count\")\n",
    "crimes.reset_index(inplace=True)\n",
    "crimes.rename(columns={\"Date\":\"CrimeCounts\"}, inplace=True)\n",
    "crimes.head(10)"
   ]
  },
  {
   "cell_type": "markdown",
   "metadata": {},
   "source": [
    "Let's set the Crime Rate\n",
    "Level of Crime Rate:\n",
    "<ul><li><strong>0-14 : </strong>Low Crime Rate = 0</li>\n",
    "<li><strong>15-33 : </strong>Medium Crime Rate = 1</li>\n",
    "<li><strong>34 and above : </strong>High Crime Rate = 2</li>\n",
    "<br>"
   ]
  },
  {
   "cell_type": "code",
   "execution_count": 18,
   "metadata": {},
   "outputs": [
    {
     "data": {
      "text/html": [
       "<div>\n",
       "<style scoped>\n",
       "    .dataframe tbody tr th:only-of-type {\n",
       "        vertical-align: middle;\n",
       "    }\n",
       "\n",
       "    .dataframe tbody tr th {\n",
       "        vertical-align: top;\n",
       "    }\n",
       "\n",
       "    .dataframe thead th {\n",
       "        text-align: right;\n",
       "    }\n",
       "</style>\n",
       "<table border=\"1\" class=\"dataframe\">\n",
       "  <thead>\n",
       "    <tr style=\"text-align: right;\">\n",
       "      <th></th>\n",
       "      <th>District</th>\n",
       "      <th>Month</th>\n",
       "      <th>Day</th>\n",
       "      <th>Hour</th>\n",
       "      <th>CrimeCounts</th>\n",
       "    </tr>\n",
       "  </thead>\n",
       "  <tbody>\n",
       "    <tr>\n",
       "      <th>0</th>\n",
       "      <td>1.0</td>\n",
       "      <td>1</td>\n",
       "      <td>1</td>\n",
       "      <td>0</td>\n",
       "      <td>1</td>\n",
       "    </tr>\n",
       "    <tr>\n",
       "      <th>1</th>\n",
       "      <td>1.0</td>\n",
       "      <td>1</td>\n",
       "      <td>1</td>\n",
       "      <td>1</td>\n",
       "      <td>0</td>\n",
       "    </tr>\n",
       "    <tr>\n",
       "      <th>2</th>\n",
       "      <td>1.0</td>\n",
       "      <td>1</td>\n",
       "      <td>1</td>\n",
       "      <td>2</td>\n",
       "      <td>0</td>\n",
       "    </tr>\n",
       "    <tr>\n",
       "      <th>3</th>\n",
       "      <td>1.0</td>\n",
       "      <td>1</td>\n",
       "      <td>1</td>\n",
       "      <td>3</td>\n",
       "      <td>0</td>\n",
       "    </tr>\n",
       "    <tr>\n",
       "      <th>4</th>\n",
       "      <td>1.0</td>\n",
       "      <td>1</td>\n",
       "      <td>1</td>\n",
       "      <td>4</td>\n",
       "      <td>0</td>\n",
       "    </tr>\n",
       "    <tr>\n",
       "      <th>...</th>\n",
       "      <td>...</td>\n",
       "      <td>...</td>\n",
       "      <td>...</td>\n",
       "      <td>...</td>\n",
       "      <td>...</td>\n",
       "    </tr>\n",
       "    <tr>\n",
       "      <th>185310</th>\n",
       "      <td>31.0</td>\n",
       "      <td>9</td>\n",
       "      <td>1</td>\n",
       "      <td>14</td>\n",
       "      <td>0</td>\n",
       "    </tr>\n",
       "    <tr>\n",
       "      <th>185311</th>\n",
       "      <td>31.0</td>\n",
       "      <td>9</td>\n",
       "      <td>4</td>\n",
       "      <td>10</td>\n",
       "      <td>0</td>\n",
       "    </tr>\n",
       "    <tr>\n",
       "      <th>185312</th>\n",
       "      <td>31.0</td>\n",
       "      <td>9</td>\n",
       "      <td>16</td>\n",
       "      <td>10</td>\n",
       "      <td>0</td>\n",
       "    </tr>\n",
       "    <tr>\n",
       "      <th>185313</th>\n",
       "      <td>31.0</td>\n",
       "      <td>9</td>\n",
       "      <td>23</td>\n",
       "      <td>12</td>\n",
       "      <td>0</td>\n",
       "    </tr>\n",
       "    <tr>\n",
       "      <th>185314</th>\n",
       "      <td>31.0</td>\n",
       "      <td>10</td>\n",
       "      <td>8</td>\n",
       "      <td>1</td>\n",
       "      <td>0</td>\n",
       "    </tr>\n",
       "  </tbody>\n",
       "</table>\n",
       "<p>185315 rows × 5 columns</p>\n",
       "</div>"
      ],
      "text/plain": [
       "        District  Month  Day  Hour  CrimeCounts\n",
       "0            1.0      1    1     0            1\n",
       "1            1.0      1    1     1            0\n",
       "2            1.0      1    1     2            0\n",
       "3            1.0      1    1     3            0\n",
       "4            1.0      1    1     4            0\n",
       "...          ...    ...  ...   ...          ...\n",
       "185310      31.0      9    1    14            0\n",
       "185311      31.0      9    4    10            0\n",
       "185312      31.0      9   16    10            0\n",
       "185313      31.0      9   23    12            0\n",
       "185314      31.0     10    8     1            0\n",
       "\n",
       "[185315 rows x 5 columns]"
      ]
     },
     "execution_count": 18,
     "metadata": {},
     "output_type": "execute_result"
    }
   ],
   "source": [
    "crimes.loc[crimes['CrimeCounts'] <= 14, 'CrimeCounts'] = 0\n",
    "crimes.loc[(crimes['CrimeCounts'] >= 15) & (crimes['CrimeCounts'] <=33), 'CrimeCounts'] = 1\n",
    "crimes.loc[crimes['CrimeCounts'] > 33, 'CrimeCounts'] = 2\n",
    "    \n",
    "crimes"
   ]
  },
  {
   "cell_type": "code",
   "execution_count": 19,
   "metadata": {},
   "outputs": [
    {
     "data": {
      "text/html": [
       "<div>\n",
       "<style scoped>\n",
       "    .dataframe tbody tr th:only-of-type {\n",
       "        vertical-align: middle;\n",
       "    }\n",
       "\n",
       "    .dataframe tbody tr th {\n",
       "        vertical-align: top;\n",
       "    }\n",
       "\n",
       "    .dataframe thead th {\n",
       "        text-align: right;\n",
       "    }\n",
       "</style>\n",
       "<table border=\"1\" class=\"dataframe\">\n",
       "  <thead>\n",
       "    <tr style=\"text-align: right;\">\n",
       "      <th></th>\n",
       "      <th>District</th>\n",
       "      <th>Month</th>\n",
       "      <th>Day</th>\n",
       "      <th>Hour</th>\n",
       "    </tr>\n",
       "    <tr>\n",
       "      <th>CrimeCounts</th>\n",
       "      <th></th>\n",
       "      <th></th>\n",
       "      <th></th>\n",
       "      <th></th>\n",
       "    </tr>\n",
       "  </thead>\n",
       "  <tbody>\n",
       "    <tr>\n",
       "      <th>0</th>\n",
       "      <td>182254</td>\n",
       "      <td>182254</td>\n",
       "      <td>182254</td>\n",
       "      <td>182254</td>\n",
       "    </tr>\n",
       "    <tr>\n",
       "      <th>1</th>\n",
       "      <td>3039</td>\n",
       "      <td>3039</td>\n",
       "      <td>3039</td>\n",
       "      <td>3039</td>\n",
       "    </tr>\n",
       "    <tr>\n",
       "      <th>2</th>\n",
       "      <td>22</td>\n",
       "      <td>22</td>\n",
       "      <td>22</td>\n",
       "      <td>22</td>\n",
       "    </tr>\n",
       "  </tbody>\n",
       "</table>\n",
       "</div>"
      ],
      "text/plain": [
       "             District   Month     Day    Hour\n",
       "CrimeCounts                                  \n",
       "0              182254  182254  182254  182254\n",
       "1                3039    3039    3039    3039\n",
       "2                  22      22      22      22"
      ]
     },
     "execution_count": 19,
     "metadata": {},
     "output_type": "execute_result"
    }
   ],
   "source": [
    "crimes.groupby(by=[\"CrimeCounts\"]).count()"
   ]
  },
  {
   "cell_type": "code",
   "execution_count": 20,
   "metadata": {},
   "outputs": [
    {
     "name": "stderr",
     "output_type": "stream",
     "text": [
      "C:\\Users\\DEVIN\\anaconda3\\lib\\site-packages\\seaborn\\_decorators.py:36: FutureWarning: Pass the following variable as a keyword arg: x. From version 0.12, the only valid positional argument will be `data`, and passing other arguments without an explicit keyword will result in an error or misinterpretation.\n",
      "  warnings.warn(\n"
     ]
    },
    {
     "data": {
      "image/png": "[encoded data removed]",
      "text/plain": [
       "<Figure size 432x288 with 1 Axes>"
      ]
     },
     "metadata": {
      "needs_background": "light"
     },
     "output_type": "display_data"
    }
   ],
   "source": [
    "g = sns.countplot(crimes['CrimeCounts'])\n",
    "g.set_xticklabels(['0','1','2'])\n",
    "plt.show()"
   ]
  },
  {
   "cell_type": "markdown",
   "metadata": {},
   "source": [
    "As we can see here, there is an imbalance in the CrimeCounts category. We will use Oversampling technique to overcome that."
   ]
  },
  {
   "cell_type": "markdown",
   "metadata": {},
   "source": [
    "First, we are going to seperate all the CrimeCounts values into 3."
   ]
  },
  {
   "cell_type": "code",
   "execution_count": 21,
   "metadata": {},
   "outputs": [
    {
     "name": "stdout",
     "output_type": "stream",
     "text": [
      "Crime 0: (182254, 5)\n",
      "Crime 1: (3039, 5)\n",
      "Crime 2: (22, 5)\n"
     ]
    }
   ],
   "source": [
    "CrimeCounts_0, CrimeCounts_1, CrimeCounts_2 = crimes['CrimeCounts'].value_counts()\n",
    "\n",
    "Crime_0 = crimes[crimes['CrimeCounts'] == 0]\n",
    "Crime_1 = crimes[crimes['CrimeCounts'] == 1]\n",
    "Crime_2 = crimes[crimes['CrimeCounts'] == 2]\n",
    "# print the shape of the class\n",
    "print('Crime 0:', Crime_0.shape)\n",
    "print('Crime 1:', Crime_1.shape)\n",
    "print('Crime 2:', Crime_2.shape)"
   ]
  },
  {
   "cell_type": "code",
   "execution_count": 29,
   "metadata": {},
   "outputs": [
    {
     "name": "stdout",
     "output_type": "stream",
     "text": [
      "total CrimeCounts of 1 and 0: 0    182254\n",
      "1    182254\n",
      "2    182254\n",
      "Name: CrimeCounts, dtype: int64\n"
     ]
    },
    {
     "data": {
      "text/plain": [
       "<AxesSubplot:title={'center':'count (target)'}>"
      ]
     },
     "execution_count": 29,
     "metadata": {},
     "output_type": "execute_result"
    },
    {
     "data": {
      "image/png": "[encoded data removed]",
      "text/plain": [
       "<Figure size 432x288 with 1 Axes>"
      ]
     },
     "metadata": {
      "needs_background": "light"
     },
     "output_type": "display_data"
    }
   ],
   "source": [
    "Crime_1_over = Crime_1.sample(CrimeCounts_0, replace=True)\n",
    "Crime_2_over = Crime_2.sample(CrimeCounts_0, replace=True)\n",
    "\n",
    "test_over = pd.concat([Crime_0,Crime_1_over,Crime_2_over], axis=0)\n",
    "\n",
    "print(\"total CrimeCounts of 1 and 0:\",test_over['CrimeCounts'].value_counts())# plot the count after under-sampeling\n",
    "test_over['CrimeCounts'].value_counts().plot(kind='bar', title='count (target)')"
   ]
  },
  {
   "cell_type": "markdown",
   "metadata": {},
   "source": [
    "Creating our test set. Our original one and after oversampling."
   ]
  },
  {
   "cell_type": "code",
   "execution_count": 23,
   "metadata": {},
   "outputs": [
    {
     "name": "stdout",
     "output_type": "stream",
     "text": [
      "X_train shape:  (129720, 4)\n",
      "X_test shape:  (55595, 4)\n",
      "Y_train shape:  (129720, 1)\n",
      "Y_test shape:  (55595, 1)\n"
     ]
    }
   ],
   "source": [
    "from sklearn.model_selection import train_test_split\n",
    "#original\n",
    "x=crimes.iloc[:,0:-1]\n",
    "\n",
    "y=crimes[\"CrimeCounts\"]\n",
    "y=pd.DataFrame(y,columns=[\"CrimeCounts\"])\n",
    "\n",
    "x_train, x_test, y_train, y_test = train_test_split(x,y, test_size = 0.3, random_state = 42)\n",
    "print(\"X_train shape: \",x_train.shape)\n",
    "print(\"X_test shape: \",x_test.shape)\n",
    "print(\"Y_train shape: \",y_train.shape)\n",
    "print(\"Y_test shape: \",y_test.shape)"
   ]
  },
  {
   "cell_type": "code",
   "execution_count": 24,
   "metadata": {},
   "outputs": [
    {
     "name": "stdout",
     "output_type": "stream",
     "text": [
      "X_train shape:  (382733, 4)\n",
      "X_test shape:  (164029, 4)\n",
      "Y_train shape:  (382733, 1)\n",
      "Y_test shape:  (164029, 1)\n"
     ]
    }
   ],
   "source": [
    "#After Over-Sampling\n",
    "x_over=test_over.iloc[:,0:-1]\n",
    "\n",
    "y_over=test_over[\"CrimeCounts\"]\n",
    "y_over=pd.DataFrame(y_over,columns=[\"CrimeCounts\"])\n",
    "\n",
    "x_over_train, x_over_test, y_over_train, y_over_test = train_test_split(x_over,y_over, test_size = 0.3, random_state = 42)\n",
    "print(\"X_train shape: \",x_over_train.shape)\n",
    "print(\"X_test shape: \",x_over_test.shape)\n",
    "print(\"Y_train shape: \",y_over_train.shape)\n",
    "print(\"Y_test shape: \",y_over_test.shape)"
   ]
  },
  {
   "cell_type": "markdown",
   "metadata": {},
   "source": [
    "## 4. Build and Assess the machine learning models (35 pts.)"
   ]
  },
  {
   "cell_type": "markdown",
   "metadata": {},
   "source": [
    "**You have to evaluate the machine learning models using at least two performance metrics (for example: precision and recall)**. "
   ]
  },
  {
   "cell_type": "code",
   "execution_count": 25,
   "metadata": {},
   "outputs": [],
   "source": [
    "from sklearn.metrics import accuracy_score,f1_score,classification_report\n",
    "from sklearn.model_selection import cross_val_score\n",
    "import warnings\n",
    "warnings.filterwarnings(\"ignore\")\n",
    "\n",
    "def evaluate(model):\n",
    "    #original\n",
    "    model.fit(x_train,y_train)\n",
    "    y_pred=model.predict(x_test) \n",
    "    #oversampling\n",
    "    model.fit(x_over_train,y_over_train)\n",
    "    y_over_pred=model.predict(x_over_test) \n",
    "    \n",
    "    #printing the model name and accuracy !!!!!\n",
    "    print(\"Original!\")\n",
    "    print(\"Model name:---->>>\",model)\n",
    "    print(\"accuracy score:--->>\",accuracy_score(y_test,y_pred))\n",
    "    print(\"\\n\")\n",
    "    print(classification_report(y_test,y_pred))\n",
    "    print(\"<<<<-------------------------------------------------------------------->>>>\")\n",
    "    print(\"After Over-Sampling!\")\n",
    "    print(\"Model name:---->>>\",model)\n",
    "    print(\"accuracy score:--->>\",accuracy_score(y_over_test,y_over_pred))\n",
    "    print(\"\\n\")\n",
    "    print(classification_report(y_over_test,y_over_pred))\n",
    "    print(\"<<<<-------------------------------------------------------------------->>>>\")"
   ]
  },
  {
   "cell_type": "markdown",
   "metadata": {},
   "source": [
    "### First Model : Random Forest Classifier"
   ]
  },
  {
   "cell_type": "code",
   "execution_count": 26,
   "metadata": {},
   "outputs": [
    {
     "name": "stdout",
     "output_type": "stream",
     "text": [
      "Original!\n",
      "Model name:---->>> RandomForestClassifier(random_state=42)\n",
      "accuracy score:--->> 0.9829481068441407\n",
      "\n",
      "\n",
      "              precision    recall  f1-score   support\n",
      "\n",
      "           0       0.99      1.00      0.99     54701\n",
      "           1       0.39      0.12      0.18       888\n",
      "           2       0.80      0.67      0.73         6\n",
      "\n",
      "    accuracy                           0.98     55595\n",
      "   macro avg       0.73      0.59      0.63     55595\n",
      "weighted avg       0.98      0.98      0.98     55595\n",
      "\n",
      "<<<<-------------------------------------------------------------------->>>>\n",
      "After Over-Sampling!\n",
      "Model name:---->>> RandomForestClassifier(random_state=42)\n",
      "accuracy score:--->> 0.9954276377957556\n",
      "\n",
      "\n",
      "              precision    recall  f1-score   support\n",
      "\n",
      "           0       1.00      0.99      0.99     54610\n",
      "           1       0.99      1.00      0.99     54789\n",
      "           2       1.00      1.00      1.00     54630\n",
      "\n",
      "    accuracy                           1.00    164029\n",
      "   macro avg       1.00      1.00      1.00    164029\n",
      "weighted avg       1.00      1.00      1.00    164029\n",
      "\n",
      "<<<<-------------------------------------------------------------------->>>>\n"
     ]
    }
   ],
   "source": [
    "from sklearn.ensemble import RandomForestClassifier\n",
    "\n",
    "rf=RandomForestClassifier(random_state=42)\n",
    "\n",
    "models=[rf] #create a list of models \n",
    "\n",
    "for model in models:\n",
    "    evaluate(model)"
   ]
  },
  {
   "cell_type": "markdown",
   "metadata": {},
   "source": [
    "### Second Model : Decision Tree Classifier"
   ]
  },
  {
   "cell_type": "code",
   "execution_count": 27,
   "metadata": {},
   "outputs": [
    {
     "name": "stdout",
     "output_type": "stream",
     "text": [
      "Original!\n",
      "Model name:---->>> DecisionTreeClassifier()\n",
      "accuracy score:--->> 0.9700872380609767\n",
      "\n",
      "\n",
      "              precision    recall  f1-score   support\n",
      "\n",
      "           0       0.99      0.98      0.98     54701\n",
      "           1       0.15      0.19      0.17       888\n",
      "           2       0.67      0.67      0.67         6\n",
      "\n",
      "    accuracy                           0.97     55595\n",
      "   macro avg       0.60      0.61      0.61     55595\n",
      "weighted avg       0.97      0.97      0.97     55595\n",
      "\n",
      "<<<<-------------------------------------------------------------------->>>>\n",
      "After Over-Sampling!\n",
      "Model name:---->>> DecisionTreeClassifier()\n",
      "accuracy score:--->> 0.9933243511818032\n",
      "\n",
      "\n",
      "              precision    recall  f1-score   support\n",
      "\n",
      "           0       1.00      0.98      0.99     54610\n",
      "           1       0.98      1.00      0.99     54789\n",
      "           2       1.00      1.00      1.00     54630\n",
      "\n",
      "    accuracy                           0.99    164029\n",
      "   macro avg       0.99      0.99      0.99    164029\n",
      "weighted avg       0.99      0.99      0.99    164029\n",
      "\n",
      "<<<<-------------------------------------------------------------------->>>>\n"
     ]
    }
   ],
   "source": [
    "from sklearn.tree import DecisionTreeClassifier\n",
    "dtc=DecisionTreeClassifier()\n",
    "\n",
    "models=[dtc] #create a list of models \n",
    "\n",
    "for model in models:\n",
    "    evaluate(model)"
   ]
  },
  {
   "cell_type": "markdown",
   "metadata": {},
   "source": [
    "## 5. Choose your Final Model (3 pts.)"
   ]
  },
  {
   "cell_type": "markdown",
   "metadata": {},
   "source": [
    "**You finally have your final model. Write comments to justify your final model**"
   ]
  },
  {
   "cell_type": "markdown",
   "metadata": {},
   "source": [
    "For our final model, we will choose the first model which is using the Random Forest Classifier. We chose this model because the score from before and after Over-Sampling is higher/better than the second model. "
   ]
  },
  {
   "cell_type": "code",
   "execution_count": 28,
   "metadata": {},
   "outputs": [
    {
     "name": "stdout",
     "output_type": "stream",
     "text": [
      "Original!\n",
      "Model name:---->>> RandomForestClassifier(random_state=42)\n",
      "accuracy score:--->> 0.9829481068441407\n",
      "\n",
      "\n",
      "              precision    recall  f1-score   support\n",
      "\n",
      "           0       0.99      1.00      0.99     54701\n",
      "           1       0.39      0.12      0.18       888\n",
      "           2       0.80      0.67      0.73         6\n",
      "\n",
      "    accuracy                           0.98     55595\n",
      "   macro avg       0.73      0.59      0.63     55595\n",
      "weighted avg       0.98      0.98      0.98     55595\n",
      "\n",
      "<<<<-------------------------------------------------------------------->>>>\n",
      "After Over-Sampling!\n",
      "Model name:---->>> RandomForestClassifier(random_state=42)\n",
      "accuracy score:--->> 0.9954276377957556\n",
      "\n",
      "\n",
      "              precision    recall  f1-score   support\n",
      "\n",
      "           0       1.00      0.99      0.99     54610\n",
      "           1       0.99      1.00      0.99     54789\n",
      "           2       1.00      1.00      1.00     54630\n",
      "\n",
      "    accuracy                           1.00    164029\n",
      "   macro avg       1.00      1.00      1.00    164029\n",
      "weighted avg       1.00      1.00      1.00    164029\n",
      "\n",
      "<<<<-------------------------------------------------------------------->>>>\n"
     ]
    }
   ],
   "source": [
    "rf=RandomForestClassifier(random_state=42)\n",
    "\n",
    "models=[rf] #create a list of models \n",
    "\n",
    "for model in models:\n",
    "    evaluate(model)"
   ]
  }
 ],
 "metadata": {
  "kernelspec": {
   "display_name": "Python 3 (ipykernel)",
   "language": "python",
   "name": "python3"
  },
  "language_info": {
   "codemirror_mode": {
    "name": "ipython",
    "version": 3
   },
   "file_extension": ".py",
   "mimetype": "text/x-python",
   "name": "python",
   "nbconvert_exporter": "python",
   "pygments_lexer": "ipython3",
   "version": "3.9.12"
  }
 },
 "nbformat": 4,
 "nbformat_minor": 4
}
