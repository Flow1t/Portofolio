{
 "cells": [
  {
   "cell_type": "markdown",
   "id": "5978a29e",
   "metadata": {},
   "source": [
    "# Artificial Intelligence - Final Exam"
   ]
  },
  {
   "cell_type": "markdown",
   "id": "4fce4646",
   "metadata": {},
   "source": [
    "**Student Name**  :Devin Augustin   \n",
    "**Student ID**    :2440094352   "
   ]
  },
  {
   "cell_type": "markdown",
   "id": "05c5c184",
   "metadata": {},
   "source": [
    "2. As a Data Scientist, you are supposed to build a multivariate linear regression (MLR) model that might be used to predict the insurance charges (dependent variable) based on some independent variables namely age, sex, bmi, smoker/non-smoker, etc as they are shown in the insurance_charges.csv dataset. Find the intercept b and the coefficient Wi using Gradient Descent in python notebook. Compute coefficient of determination R 2 and show side by side to see how close your MLR model prediction with the actual one (ground truth). Pls check AIMA 3 rd Edition pp. 718-721."
   ]
  },
  {
   "cell_type": "code",
   "execution_count": 1,
   "id": "4a8326bf",
   "metadata": {},
   "outputs": [
    {
     "data": {
      "text/html": [
       "<div>\n",
       "<style scoped>\n",
       "    .dataframe tbody tr th:only-of-type {\n",
       "        vertical-align: middle;\n",
       "    }\n",
       "\n",
       "    .dataframe tbody tr th {\n",
       "        vertical-align: top;\n",
       "    }\n",
       "\n",
       "    .dataframe thead th {\n",
       "        text-align: right;\n",
       "    }\n",
       "</style>\n",
       "<table border=\"1\" class=\"dataframe\">\n",
       "  <thead>\n",
       "    <tr style=\"text-align: right;\">\n",
       "      <th></th>\n",
       "      <th>age</th>\n",
       "      <th>sex</th>\n",
       "      <th>bmi</th>\n",
       "      <th>children</th>\n",
       "      <th>smoker</th>\n",
       "      <th>charges</th>\n",
       "    </tr>\n",
       "  </thead>\n",
       "  <tbody>\n",
       "    <tr>\n",
       "      <th>0</th>\n",
       "      <td>19</td>\n",
       "      <td>1</td>\n",
       "      <td>27.900</td>\n",
       "      <td>0</td>\n",
       "      <td>1</td>\n",
       "      <td>16884.92400</td>\n",
       "    </tr>\n",
       "    <tr>\n",
       "      <th>1</th>\n",
       "      <td>18</td>\n",
       "      <td>0</td>\n",
       "      <td>33.770</td>\n",
       "      <td>1</td>\n",
       "      <td>0</td>\n",
       "      <td>1725.55230</td>\n",
       "    </tr>\n",
       "    <tr>\n",
       "      <th>2</th>\n",
       "      <td>28</td>\n",
       "      <td>0</td>\n",
       "      <td>33.000</td>\n",
       "      <td>3</td>\n",
       "      <td>0</td>\n",
       "      <td>4449.46200</td>\n",
       "    </tr>\n",
       "    <tr>\n",
       "      <th>3</th>\n",
       "      <td>33</td>\n",
       "      <td>0</td>\n",
       "      <td>22.705</td>\n",
       "      <td>0</td>\n",
       "      <td>0</td>\n",
       "      <td>21984.47061</td>\n",
       "    </tr>\n",
       "    <tr>\n",
       "      <th>4</th>\n",
       "      <td>32</td>\n",
       "      <td>0</td>\n",
       "      <td>28.880</td>\n",
       "      <td>0</td>\n",
       "      <td>0</td>\n",
       "      <td>3866.85520</td>\n",
       "    </tr>\n",
       "    <tr>\n",
       "      <th>...</th>\n",
       "      <td>...</td>\n",
       "      <td>...</td>\n",
       "      <td>...</td>\n",
       "      <td>...</td>\n",
       "      <td>...</td>\n",
       "      <td>...</td>\n",
       "    </tr>\n",
       "    <tr>\n",
       "      <th>1333</th>\n",
       "      <td>50</td>\n",
       "      <td>0</td>\n",
       "      <td>30.970</td>\n",
       "      <td>3</td>\n",
       "      <td>0</td>\n",
       "      <td>10600.54830</td>\n",
       "    </tr>\n",
       "    <tr>\n",
       "      <th>1334</th>\n",
       "      <td>18</td>\n",
       "      <td>1</td>\n",
       "      <td>31.920</td>\n",
       "      <td>0</td>\n",
       "      <td>0</td>\n",
       "      <td>2205.98080</td>\n",
       "    </tr>\n",
       "    <tr>\n",
       "      <th>1335</th>\n",
       "      <td>18</td>\n",
       "      <td>1</td>\n",
       "      <td>36.850</td>\n",
       "      <td>0</td>\n",
       "      <td>0</td>\n",
       "      <td>1629.83350</td>\n",
       "    </tr>\n",
       "    <tr>\n",
       "      <th>1336</th>\n",
       "      <td>21</td>\n",
       "      <td>1</td>\n",
       "      <td>25.800</td>\n",
       "      <td>0</td>\n",
       "      <td>0</td>\n",
       "      <td>2007.94500</td>\n",
       "    </tr>\n",
       "    <tr>\n",
       "      <th>1337</th>\n",
       "      <td>61</td>\n",
       "      <td>1</td>\n",
       "      <td>29.070</td>\n",
       "      <td>0</td>\n",
       "      <td>1</td>\n",
       "      <td>29141.36030</td>\n",
       "    </tr>\n",
       "  </tbody>\n",
       "</table>\n",
       "<p>1338 rows × 6 columns</p>\n",
       "</div>"
      ],
      "text/plain": [
       "      age  sex     bmi  children  smoker      charges\n",
       "0      19    1  27.900         0       1  16884.92400\n",
       "1      18    0  33.770         1       0   1725.55230\n",
       "2      28    0  33.000         3       0   4449.46200\n",
       "3      33    0  22.705         0       0  21984.47061\n",
       "4      32    0  28.880         0       0   3866.85520\n",
       "...   ...  ...     ...       ...     ...          ...\n",
       "1333   50    0  30.970         3       0  10600.54830\n",
       "1334   18    1  31.920         0       0   2205.98080\n",
       "1335   18    1  36.850         0       0   1629.83350\n",
       "1336   21    1  25.800         0       0   2007.94500\n",
       "1337   61    1  29.070         0       1  29141.36030\n",
       "\n",
       "[1338 rows x 6 columns]"
      ]
     },
     "execution_count": 1,
     "metadata": {},
     "output_type": "execute_result"
    }
   ],
   "source": [
    "# Importing library and dataset\n",
    "import pandas as pd \n",
    "import numpy as np \n",
    "import matplotlib.pyplot as plt\n",
    "import seaborn as sns\n",
    "\n",
    "df = pd.read_csv(\"insurance_charges.csv\")\n",
    "df"
   ]
  },
  {
   "cell_type": "markdown",
   "id": "06ecf560",
   "metadata": {},
   "source": [
    "#### Preprocess The Data"
   ]
  },
  {
   "cell_type": "code",
   "execution_count": 2,
   "id": "81bb9d73",
   "metadata": {},
   "outputs": [
    {
     "name": "stdout",
     "output_type": "stream",
     "text": [
      "(1338, 2)\n",
      "(1338,)\n"
     ]
    }
   ],
   "source": [
    "#Set the x and y value\n",
    "x = df.values[:, 0:2]\n",
    "y = df.values[:, 2]\n",
    "\n",
    "print(x.shape)\n",
    "print(y.shape)"
   ]
  },
  {
   "cell_type": "code",
   "execution_count": 3,
   "id": "c61c4f7c",
   "metadata": {},
   "outputs": [],
   "source": [
    "from sklearn.preprocessing import StandardScaler\n",
    "\n",
    "scaler = StandardScaler()\n",
    "x = scaler.fit_transform(x)"
   ]
  },
  {
   "cell_type": "markdown",
   "id": "4dda1c3e",
   "metadata": {},
   "source": [
    "## Gradient Descent Method"
   ]
  },
  {
   "cell_type": "code",
   "execution_count": 4,
   "id": "23d7ac58",
   "metadata": {},
   "outputs": [],
   "source": [
    "#Add a column of one to x variable\n",
    "x = np.hstack((np.ones((len(y),1)), x))"
   ]
  },
  {
   "cell_type": "code",
   "execution_count": 5,
   "id": "e4736b2e",
   "metadata": {},
   "outputs": [],
   "source": [
    "def costFunction(x, y, theta):\n",
    "    m = len(y)\n",
    "    j = np.sum((x.dot(theta)-y)**2)/(2*m)\n",
    "    return j\n",
    "\n",
    "def gradient_descent(x, y, theta, alpha, iterations):\n",
    "    cost_history = [0] * iterations\n",
    "    m = len(y)\n",
    "    \n",
    "    for i in range(iterations):\n",
    "        pred = x.dot(theta)\n",
    "        error = pred - y\n",
    "        gradient = np.dot(x.T,error) / m\n",
    "        theta = theta - (alpha * gradient)\n",
    "        \n",
    "        cost = costFunction(x, y, theta)\n",
    "        cost_history[i] = cost\n",
    "        \n",
    "    return theta, cost_history"
   ]
  },
  {
   "cell_type": "markdown",
   "id": "df3b1f1c",
   "metadata": {},
   "source": [
    "Now we'll do 500 iterations with alpha/learning rate of 0.05."
   ]
  },
  {
   "cell_type": "code",
   "execution_count": 6,
   "id": "6f29fff7",
   "metadata": {},
   "outputs": [
    {
     "name": "stdout",
     "output_type": "stream",
     "text": [
      "Result =\n",
      " [30.65747687  0.679708   -0.29586077]\n"
     ]
    }
   ],
   "source": [
    "theta = np.zeros(x.shape[1])\n",
    "alpha = 0.05\n",
    "iterations = 500\n",
    "\n",
    "coeff, cost_history = gradient_descent(x, y, theta, alpha, iterations)\n",
    "\n",
    "print('Result =\\n', coeff)"
   ]
  },
  {
   "cell_type": "markdown",
   "id": "53f15932",
   "metadata": {},
   "source": [
    "The result from the Gradient Descent Method above shows us the best theta (the regression coeffiencient) which are:\n",
    "*   Intercept: 30.65747687\n",
    "*   w1: 0.679708\n",
    "*   w2: -0.29586077\n",
    "\n",
    "Giving us the regression equation of:\n",
    "##### y = 30.657 + 0.68x1 - 0.3x2"
   ]
  },
  {
   "cell_type": "markdown",
   "id": "48af28f9",
   "metadata": {},
   "source": [
    "## Visualize The Linear Multiple Regression"
   ]
  },
  {
   "cell_type": "code",
   "execution_count": 7,
   "id": "09999d9c",
   "metadata": {},
   "outputs": [
    {
     "data": {
      "image/png": "[encoded data removed]",
      "text/plain": [
       "<Figure size 432x288 with 1 Axes>"
      ]
     },
     "metadata": {
      "needs_background": "light"
     },
     "output_type": "display_data"
    }
   ],
   "source": [
    "plt.title('Cost Function')\n",
    "plt.xlabel('Number of Iterations')\n",
    "plt.ylabel('Cost')\n",
    "plt.plot(cost_history)\n",
    "plt.show()"
   ]
  },
  {
   "cell_type": "markdown",
   "id": "f5280cc5",
   "metadata": {},
   "source": [
    "## Visualize The Cost of Gradient Descent"
   ]
  },
  {
   "cell_type": "code",
   "execution_count": 8,
   "id": "067afea6",
   "metadata": {},
   "outputs": [
    {
     "data": {
      "text/plain": [
       "<AxesSubplot:>"
      ]
     },
     "execution_count": 8,
     "metadata": {},
     "output_type": "execute_result"
    },
    {
     "data": {
      "image/png": "[encoded data removed]",
      "text/plain": [
       "<Figure size 432x288 with 1 Axes>"
      ]
     },
     "metadata": {
      "needs_background": "light"
     },
     "output_type": "display_data"
    }
   ],
   "source": [
    "yHat = coeff*x\n",
    "yHat = np.sum(yHat, axis = 1)\n",
    "sns.regplot(x = y, y = yHat)"
   ]
  },
  {
   "cell_type": "markdown",
   "id": "05f8834a",
   "metadata": {},
   "source": [
    "From the plot above, we can conclude that the model has become convergent is less than 100 iterations."
   ]
  },
  {
   "cell_type": "markdown",
   "id": "60c948fc",
   "metadata": {},
   "source": [
    "## R^2 (R-squared)"
   ]
  },
  {
   "cell_type": "markdown",
   "id": "65b33c67",
   "metadata": {},
   "source": [
    "Let's use the LinearRegression() function to fit a regression model and the score() function to calculate the R-squared value from the model."
   ]
  },
  {
   "cell_type": "code",
   "execution_count": 9,
   "id": "873541ee",
   "metadata": {},
   "outputs": [
    {
     "name": "stdout",
     "output_type": "stream",
     "text": [
      "0.7453426137897139\n"
     ]
    }
   ],
   "source": [
    "from sklearn.linear_model import LinearRegression\n",
    "\n",
    "lr = LinearRegression()\n",
    "x = df[[\"age\", \"sex\", \"bmi\", \"children\", \"smoker\"]]\n",
    "y = df.charges\n",
    "\n",
    "lr.fit(x,y)\n",
    "r_squared = lr.score(x,y)\n",
    "\n",
    "print(r_squared)"
   ]
  },
  {
   "cell_type": "markdown",
   "id": "61d18b31",
   "metadata": {},
   "source": [
    "Here we can see that the R-squared of the model is 0.745. Meaning that 74.5% of the variation in the insurance charges can be explained by all independent variables."
   ]
  },
  {
   "cell_type": "markdown",
   "id": "39c6d555",
   "metadata": {},
   "source": [
    "### Conclusion"
   ]
  },
  {
   "cell_type": "markdown",
   "id": "efb45d49",
   "metadata": {},
   "source": [
    "1. The result from the Gradient Descent Method above shows us the best theta (the regression coeffiencient) which are:\n",
    "*   Intercept: 30.65747687\n",
    "*   w1: 0.679708\n",
    "*   w2: -0.29586077\n",
    "\n",
    "Giving us the regression equation of:\n",
    "y = 30.657 + 0.68x1 - 0.3x2\n",
    "\n",
    "2. The R-squared is 0.745. Meaning that 74.5% of the variation in the insurance charges can be explained by all independent variables.\n",
    "\n",
    "3. From the graph above, we can conclude that the predicted model is a good model since the predicted value is close to the original one."
   ]
  }
 ],
 "metadata": {
  "kernelspec": {
   "display_name": "Python 3 (ipykernel)",
   "language": "python",
   "name": "python3"
  },
  "language_info": {
   "codemirror_mode": {
    "name": "ipython",
    "version": 3
   },
   "file_extension": ".py",
   "mimetype": "text/x-python",
   "name": "python",
   "nbconvert_exporter": "python",
   "pygments_lexer": "ipython3",
   "version": "3.9.12"
  }
 },
 "nbformat": 4,
 "nbformat_minor": 5
}
